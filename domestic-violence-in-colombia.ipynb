{
 "cells": [
  {
   "cell_type": "markdown",
   "id": "0cf9faf5",
   "metadata": {
    "papermill": {
     "duration": 0.047072,
     "end_time": "2021-07-16T08:22:03.873235",
     "exception": false,
     "start_time": "2021-07-16T08:22:03.826163",
     "status": "completed"
    },
    "tags": []
   },
   "source": [
    "**Domestic violence in Colombia**\n",
    "\n",
    "* Data Cleansing\n",
    "* Data Visualization\n",
    "* Build the Model\n",
    "\n"
   ]
  },
  {
   "cell_type": "code",
   "execution_count": 1,
   "id": "9efad003",
   "metadata": {
    "_cell_guid": "b1076dfc-b9ad-4769-8c92-a6c4dae69d19",
    "_uuid": "8f2839f25d086af736a60e9eeb907d3b93b6e0e5",
    "execution": {
     "iopub.execute_input": "2021-07-16T08:22:03.961059Z",
     "iopub.status.busy": "2021-07-16T08:22:03.959828Z",
     "iopub.status.idle": "2021-07-16T08:22:04.991317Z",
     "shell.execute_reply": "2021-07-16T08:22:04.990631Z"
    },
    "papermill": {
     "duration": 1.069745,
     "end_time": "2021-07-16T08:22:04.991498",
     "exception": false,
     "start_time": "2021-07-16T08:22:03.921753",
     "status": "completed"
    },
    "tags": []
   },
   "outputs": [],
   "source": [
    "import numpy as np\n",
    "import pandas as pd \n",
    "import matplotlib.pyplot as plt\n",
    "import seaborn as sns\n"
   ]
  },
  {
   "cell_type": "code",
   "execution_count": 2,
   "id": "fbc9ce3a",
   "metadata": {
    "execution": {
     "iopub.execute_input": "2021-07-16T08:22:05.064266Z",
     "iopub.status.busy": "2021-07-16T08:22:05.063601Z",
     "iopub.status.idle": "2021-07-16T08:22:06.266219Z",
     "shell.execute_reply": "2021-07-16T08:22:06.266943Z"
    },
    "papermill": {
     "duration": 1.241521,
     "end_time": "2021-07-16T08:22:06.267144",
     "exception": false,
     "start_time": "2021-07-16T08:22:05.025623",
     "status": "completed"
    },
    "tags": []
   },
   "outputs": [
    {
     "name": "stderr",
     "output_type": "stream",
     "text": [
      "/opt/conda/lib/python3.7/site-packages/IPython/core/interactiveshell.py:3170: DtypeWarning: Columns (2) have mixed types.Specify dtype option on import or set low_memory=False.\n",
      "  interactivity=interactivity, compiler=compiler, result=result)\n"
     ]
    },
    {
     "data": {
      "text/html": [
       "<div>\n",
       "<style scoped>\n",
       "    .dataframe tbody tr th:only-of-type {\n",
       "        vertical-align: middle;\n",
       "    }\n",
       "\n",
       "    .dataframe tbody tr th {\n",
       "        vertical-align: top;\n",
       "    }\n",
       "\n",
       "    .dataframe thead th {\n",
       "        text-align: right;\n",
       "    }\n",
       "</style>\n",
       "<table border=\"1\" class=\"dataframe\">\n",
       "  <thead>\n",
       "    <tr style=\"text-align: right;\">\n",
       "      <th></th>\n",
       "      <th>DEPARTAMENTO</th>\n",
       "      <th>MUNICIPIO</th>\n",
       "      <th>CODIGO DANE</th>\n",
       "      <th>ARMAS MEDIOS</th>\n",
       "      <th>FECHA HECHO</th>\n",
       "      <th>GENERO</th>\n",
       "      <th>GRUPO ETARIO</th>\n",
       "      <th>CANTIDAD</th>\n",
       "    </tr>\n",
       "  </thead>\n",
       "  <tbody>\n",
       "    <tr>\n",
       "      <th>0</th>\n",
       "      <td>ATLÁNTICO</td>\n",
       "      <td>BARRANQUILLA (CT)</td>\n",
       "      <td>8001000</td>\n",
       "      <td>ARMA BLANCA / CORTOPUNZANTE</td>\n",
       "      <td>1/01/2010</td>\n",
       "      <td>MASCULINO</td>\n",
       "      <td>ADULTOS</td>\n",
       "      <td>1</td>\n",
       "    </tr>\n",
       "    <tr>\n",
       "      <th>1</th>\n",
       "      <td>BOYACÁ</td>\n",
       "      <td>DUITAMA</td>\n",
       "      <td>15238000</td>\n",
       "      <td>ARMA BLANCA / CORTOPUNZANTE</td>\n",
       "      <td>1/01/2010</td>\n",
       "      <td>FEMENINO</td>\n",
       "      <td>ADULTOS</td>\n",
       "      <td>1</td>\n",
       "    </tr>\n",
       "    <tr>\n",
       "      <th>2</th>\n",
       "      <td>CAQUETÁ</td>\n",
       "      <td>PUERTO RICO</td>\n",
       "      <td>18592000</td>\n",
       "      <td>ARMA BLANCA / CORTOPUNZANTE</td>\n",
       "      <td>1/01/2010</td>\n",
       "      <td>MASCULINO</td>\n",
       "      <td>ADULTOS</td>\n",
       "      <td>1</td>\n",
       "    </tr>\n",
       "    <tr>\n",
       "      <th>3</th>\n",
       "      <td>CASANARE</td>\n",
       "      <td>MANÍ</td>\n",
       "      <td>85139000</td>\n",
       "      <td>ARMA BLANCA / CORTOPUNZANTE</td>\n",
       "      <td>1/01/2010</td>\n",
       "      <td>FEMENINO</td>\n",
       "      <td>ADULTOS</td>\n",
       "      <td>1</td>\n",
       "    </tr>\n",
       "    <tr>\n",
       "      <th>4</th>\n",
       "      <td>CUNDINAMARCA</td>\n",
       "      <td>BOGOTÁ D.C. (CT)</td>\n",
       "      <td>11001000</td>\n",
       "      <td>ARMA BLANCA / CORTOPUNZANTE</td>\n",
       "      <td>1/01/2010</td>\n",
       "      <td>FEMENINO</td>\n",
       "      <td>ADULTOS</td>\n",
       "      <td>1</td>\n",
       "    </tr>\n",
       "  </tbody>\n",
       "</table>\n",
       "</div>"
      ],
      "text/plain": [
       "   DEPARTAMENTO          MUNICIPIO CODIGO DANE                 ARMAS MEDIOS  \\\n",
       "0     ATLÁNTICO  BARRANQUILLA (CT)     8001000  ARMA BLANCA / CORTOPUNZANTE   \n",
       "1        BOYACÁ            DUITAMA    15238000  ARMA BLANCA / CORTOPUNZANTE   \n",
       "2       CAQUETÁ        PUERTO RICO    18592000  ARMA BLANCA / CORTOPUNZANTE   \n",
       "3      CASANARE               MANÍ    85139000  ARMA BLANCA / CORTOPUNZANTE   \n",
       "4  CUNDINAMARCA   BOGOTÁ D.C. (CT)    11001000  ARMA BLANCA / CORTOPUNZANTE   \n",
       "\n",
       "  FECHA HECHO     GENERO GRUPO ETARIO  CANTIDAD  \n",
       "0   1/01/2010  MASCULINO      ADULTOS         1  \n",
       "1   1/01/2010   FEMENINO      ADULTOS         1  \n",
       "2   1/01/2010  MASCULINO      ADULTOS         1  \n",
       "3   1/01/2010   FEMENINO      ADULTOS         1  \n",
       "4   1/01/2010   FEMENINO      ADULTOS         1  "
      ]
     },
     "execution_count": 2,
     "metadata": {},
     "output_type": "execute_result"
    }
   ],
   "source": [
    "raw_data=pd.read_csv(r'../input/domestic-violence-in-colombia/Reporte_Delito_Violencia_Intrafamiliar_Polic_a_Nacional.csv')\n",
    "raw_data.head()"
   ]
  },
  {
   "cell_type": "code",
   "execution_count": 3,
   "id": "cfeec125",
   "metadata": {
    "execution": {
     "iopub.execute_input": "2021-07-16T08:22:06.673601Z",
     "iopub.status.busy": "2021-07-16T08:22:06.672241Z",
     "iopub.status.idle": "2021-07-16T08:22:06.704190Z",
     "shell.execute_reply": "2021-07-16T08:22:06.704826Z"
    },
    "papermill": {
     "duration": 0.402045,
     "end_time": "2021-07-16T08:22:06.705013",
     "exception": false,
     "start_time": "2021-07-16T08:22:06.302968",
     "status": "completed"
    },
    "tags": []
   },
   "outputs": [
    {
     "name": "stdout",
     "output_type": "stream",
     "text": [
      "<class 'pandas.core.frame.DataFrame'>\n",
      "RangeIndex: 476970 entries, 0 to 476969\n",
      "Data columns (total 8 columns):\n",
      " #   Column        Non-Null Count   Dtype \n",
      "---  ------        --------------   ----- \n",
      " 0   DEPARTAMENTO  476970 non-null  object\n",
      " 1   MUNICIPIO     476970 non-null  object\n",
      " 2   CODIGO DANE   476970 non-null  object\n",
      " 3   ARMAS MEDIOS  476968 non-null  object\n",
      " 4   FECHA HECHO   476970 non-null  object\n",
      " 5   GENERO        476967 non-null  object\n",
      " 6   GRUPO ETARIO  475355 non-null  object\n",
      " 7   CANTIDAD      476970 non-null  int64 \n",
      "dtypes: int64(1), object(7)\n",
      "memory usage: 29.1+ MB\n"
     ]
    }
   ],
   "source": [
    "raw_data.info()"
   ]
  },
  {
   "cell_type": "code",
   "execution_count": 4,
   "id": "d382a3c3",
   "metadata": {
    "execution": {
     "iopub.execute_input": "2021-07-16T08:22:07.114276Z",
     "iopub.status.busy": "2021-07-16T08:22:07.113268Z",
     "iopub.status.idle": "2021-07-16T08:22:07.125870Z",
     "shell.execute_reply": "2021-07-16T08:22:07.125275Z"
    },
    "papermill": {
     "duration": 0.38366,
     "end_time": "2021-07-16T08:22:07.126018",
     "exception": false,
     "start_time": "2021-07-16T08:22:06.742358",
     "status": "completed"
    },
    "tags": []
   },
   "outputs": [
    {
     "data": {
      "text/plain": [
       "DEPARTAMENTO       0\n",
       "MUNICIPIO          0\n",
       "CODIGO DANE        0\n",
       "ARMAS MEDIOS       2\n",
       "FECHA HECHO        0\n",
       "GENERO             3\n",
       "GRUPO ETARIO    1615\n",
       "CANTIDAD           0\n",
       "dtype: int64"
      ]
     },
     "execution_count": 4,
     "metadata": {},
     "output_type": "execute_result"
    }
   ],
   "source": [
    "raw_data.isnull().sum()"
   ]
  },
  {
   "cell_type": "markdown",
   "id": "db370b1c",
   "metadata": {
    "papermill": {
     "duration": 0.03576,
     "end_time": "2021-07-16T08:22:07.199716",
     "exception": false,
     "start_time": "2021-07-16T08:22:07.163956",
     "status": "completed"
    },
    "tags": []
   },
   "source": [
    "**Data Cleansing**\n",
    "\n",
    "All NA values were replaced with the most frequent value in their column"
   ]
  },
  {
   "cell_type": "code",
   "execution_count": 5,
   "id": "96862041",
   "metadata": {
    "execution": {
     "iopub.execute_input": "2021-07-16T08:22:07.279562Z",
     "iopub.status.busy": "2021-07-16T08:22:07.278488Z",
     "iopub.status.idle": "2021-07-16T08:22:07.929316Z",
     "shell.execute_reply": "2021-07-16T08:22:07.928634Z"
    },
    "papermill": {
     "duration": 0.693517,
     "end_time": "2021-07-16T08:22:07.929478",
     "exception": false,
     "start_time": "2021-07-16T08:22:07.235961",
     "status": "completed"
    },
    "tags": []
   },
   "outputs": [],
   "source": [
    "data=raw_data.copy()\n",
    "data['ARMAS MEDIOS'].fillna(data['ARMAS MEDIOS'].mode()[0], inplace = True)\n",
    "data['GENERO'].fillna(data['GENERO'].mode()[0], inplace = True)\n",
    "data['GRUPO ETARIO'].fillna(data['GRUPO ETARIO'].mode()[0], inplace = True)\n",
    "data['CODIGO DANE'].fillna(data['CODIGO DANE'].mode()[0], inplace = True)"
   ]
  },
  {
   "cell_type": "code",
   "execution_count": 6,
   "id": "4efa8592",
   "metadata": {
    "execution": {
     "iopub.execute_input": "2021-07-16T08:22:08.325421Z",
     "iopub.status.busy": "2021-07-16T08:22:08.324505Z",
     "iopub.status.idle": "2021-07-16T08:22:08.337167Z",
     "shell.execute_reply": "2021-07-16T08:22:08.336538Z"
    },
    "papermill": {
     "duration": 0.371448,
     "end_time": "2021-07-16T08:22:08.337300",
     "exception": false,
     "start_time": "2021-07-16T08:22:07.965852",
     "status": "completed"
    },
    "tags": []
   },
   "outputs": [
    {
     "data": {
      "text/plain": [
       "DEPARTAMENTO    0\n",
       "MUNICIPIO       0\n",
       "CODIGO DANE     0\n",
       "ARMAS MEDIOS    0\n",
       "FECHA HECHO     0\n",
       "GENERO          0\n",
       "GRUPO ETARIO    0\n",
       "CANTIDAD        0\n",
       "dtype: int64"
      ]
     },
     "execution_count": 6,
     "metadata": {},
     "output_type": "execute_result"
    }
   ],
   "source": [
    "data.isnull().sum()"
   ]
  },
  {
   "cell_type": "code",
   "execution_count": 7,
   "id": "93daa10c",
   "metadata": {
    "execution": {
     "iopub.execute_input": "2021-07-16T08:22:08.414068Z",
     "iopub.status.busy": "2021-07-16T08:22:08.413101Z",
     "iopub.status.idle": "2021-07-16T08:22:08.459697Z",
     "shell.execute_reply": "2021-07-16T08:22:08.460188Z"
    },
    "papermill": {
     "duration": 0.086409,
     "end_time": "2021-07-16T08:22:08.460376",
     "exception": false,
     "start_time": "2021-07-16T08:22:08.373967",
     "status": "completed"
    },
    "tags": []
   },
   "outputs": [
    {
     "data": {
      "text/plain": [
       "array(['ARMA BLANCA / CORTOPUNZANTE', 'ARMA DE FUEGO', 'CONTUNDENTES',\n",
       "       'CORTANTES', 'CORTOPUNZANTES', 'NO REPORTADO', 'PUNZANTES',\n",
       "       'SIN EMPLEO DE ARMAS', 'NO REPORTA', 'ESCOPOLAMINA', '-'],\n",
       "      dtype=object)"
      ]
     },
     "execution_count": 7,
     "metadata": {},
     "output_type": "execute_result"
    }
   ],
   "source": [
    "data['ARMAS MEDIOS'].unique()"
   ]
  },
  {
   "cell_type": "code",
   "execution_count": 8,
   "id": "578a6e3d",
   "metadata": {
    "execution": {
     "iopub.execute_input": "2021-07-16T08:22:08.538117Z",
     "iopub.status.busy": "2021-07-16T08:22:08.537480Z",
     "iopub.status.idle": "2021-07-16T08:22:08.555335Z",
     "shell.execute_reply": "2021-07-16T08:22:08.555828Z"
    },
    "papermill": {
     "duration": 0.057877,
     "end_time": "2021-07-16T08:22:08.556008",
     "exception": false,
     "start_time": "2021-07-16T08:22:08.498131",
     "status": "completed"
    },
    "tags": []
   },
   "outputs": [
    {
     "data": {
      "text/html": [
       "<div>\n",
       "<style scoped>\n",
       "    .dataframe tbody tr th:only-of-type {\n",
       "        vertical-align: middle;\n",
       "    }\n",
       "\n",
       "    .dataframe tbody tr th {\n",
       "        vertical-align: top;\n",
       "    }\n",
       "\n",
       "    .dataframe thead th {\n",
       "        text-align: right;\n",
       "    }\n",
       "</style>\n",
       "<table border=\"1\" class=\"dataframe\">\n",
       "  <thead>\n",
       "    <tr style=\"text-align: right;\">\n",
       "      <th></th>\n",
       "      <th>DEPARTAMENTO</th>\n",
       "      <th>MUNICIPIO</th>\n",
       "      <th>CODIGO DANE</th>\n",
       "      <th>ARMAS MEDIOS</th>\n",
       "      <th>FECHA HECHO</th>\n",
       "      <th>GENERO</th>\n",
       "      <th>GRUPO ETARIO</th>\n",
       "      <th>CANTIDAD</th>\n",
       "    </tr>\n",
       "  </thead>\n",
       "  <tbody>\n",
       "    <tr>\n",
       "      <th>0</th>\n",
       "      <td>ATLÁNTICO</td>\n",
       "      <td>BARRANQUILLA (CT)</td>\n",
       "      <td>8001000</td>\n",
       "      <td>ARMA BLANCA / CORTOPUNZANTE</td>\n",
       "      <td>1/01/2010</td>\n",
       "      <td>MASCULINO</td>\n",
       "      <td>ADULTOS</td>\n",
       "      <td>1</td>\n",
       "    </tr>\n",
       "    <tr>\n",
       "      <th>1</th>\n",
       "      <td>BOYACÁ</td>\n",
       "      <td>DUITAMA</td>\n",
       "      <td>15238000</td>\n",
       "      <td>ARMA BLANCA / CORTOPUNZANTE</td>\n",
       "      <td>1/01/2010</td>\n",
       "      <td>FEMENINO</td>\n",
       "      <td>ADULTOS</td>\n",
       "      <td>1</td>\n",
       "    </tr>\n",
       "    <tr>\n",
       "      <th>2</th>\n",
       "      <td>CAQUETÁ</td>\n",
       "      <td>PUERTO RICO</td>\n",
       "      <td>18592000</td>\n",
       "      <td>ARMA BLANCA / CORTOPUNZANTE</td>\n",
       "      <td>1/01/2010</td>\n",
       "      <td>MASCULINO</td>\n",
       "      <td>ADULTOS</td>\n",
       "      <td>1</td>\n",
       "    </tr>\n",
       "    <tr>\n",
       "      <th>3</th>\n",
       "      <td>CASANARE</td>\n",
       "      <td>MANÍ</td>\n",
       "      <td>85139000</td>\n",
       "      <td>ARMA BLANCA / CORTOPUNZANTE</td>\n",
       "      <td>1/01/2010</td>\n",
       "      <td>FEMENINO</td>\n",
       "      <td>ADULTOS</td>\n",
       "      <td>1</td>\n",
       "    </tr>\n",
       "    <tr>\n",
       "      <th>4</th>\n",
       "      <td>CUNDINAMARCA</td>\n",
       "      <td>BOGOTÁ D.C. (CT)</td>\n",
       "      <td>11001000</td>\n",
       "      <td>ARMA BLANCA / CORTOPUNZANTE</td>\n",
       "      <td>1/01/2010</td>\n",
       "      <td>FEMENINO</td>\n",
       "      <td>ADULTOS</td>\n",
       "      <td>1</td>\n",
       "    </tr>\n",
       "    <tr>\n",
       "      <th>...</th>\n",
       "      <td>...</td>\n",
       "      <td>...</td>\n",
       "      <td>...</td>\n",
       "      <td>...</td>\n",
       "      <td>...</td>\n",
       "      <td>...</td>\n",
       "      <td>...</td>\n",
       "      <td>...</td>\n",
       "    </tr>\n",
       "    <tr>\n",
       "      <th>476965</th>\n",
       "      <td>VICHADA</td>\n",
       "      <td>SANTA ROSALÍA</td>\n",
       "      <td>99624000</td>\n",
       "      <td>SIN EMPLEO DE ARMAS</td>\n",
       "      <td>44250</td>\n",
       "      <td>FEMENINO</td>\n",
       "      <td>MENORES</td>\n",
       "      <td>1</td>\n",
       "    </tr>\n",
       "    <tr>\n",
       "      <th>476966</th>\n",
       "      <td>VICHADA</td>\n",
       "      <td>SANTA ROSALÍA</td>\n",
       "      <td>99624000</td>\n",
       "      <td>SIN EMPLEO DE ARMAS</td>\n",
       "      <td>44262</td>\n",
       "      <td>FEMENINO</td>\n",
       "      <td>ADULTOS</td>\n",
       "      <td>1</td>\n",
       "    </tr>\n",
       "    <tr>\n",
       "      <th>476967</th>\n",
       "      <td>VICHADA</td>\n",
       "      <td>SANTA ROSALÍA</td>\n",
       "      <td>99624000</td>\n",
       "      <td>SIN EMPLEO DE ARMAS</td>\n",
       "      <td>44300</td>\n",
       "      <td>FEMENINO</td>\n",
       "      <td>ADULTOS</td>\n",
       "      <td>1</td>\n",
       "    </tr>\n",
       "    <tr>\n",
       "      <th>476968</th>\n",
       "      <td>CUNDINAMARCA</td>\n",
       "      <td>TAUSA</td>\n",
       "      <td>25793000</td>\n",
       "      <td>CONTUNDENTES</td>\n",
       "      <td>44294</td>\n",
       "      <td>FEMENINO</td>\n",
       "      <td>ADULTOS</td>\n",
       "      <td>1</td>\n",
       "    </tr>\n",
       "    <tr>\n",
       "      <th>476969</th>\n",
       "      <td>CUNDINAMARCA</td>\n",
       "      <td>ZIPAQUIRÁ</td>\n",
       "      <td>25899000</td>\n",
       "      <td>CONTUNDENTES</td>\n",
       "      <td>44245</td>\n",
       "      <td>FEMENINO</td>\n",
       "      <td>ADULTOS</td>\n",
       "      <td>1</td>\n",
       "    </tr>\n",
       "  </tbody>\n",
       "</table>\n",
       "<p>476970 rows × 8 columns</p>\n",
       "</div>"
      ],
      "text/plain": [
       "        DEPARTAMENTO          MUNICIPIO CODIGO DANE  \\\n",
       "0          ATLÁNTICO  BARRANQUILLA (CT)     8001000   \n",
       "1             BOYACÁ            DUITAMA    15238000   \n",
       "2            CAQUETÁ        PUERTO RICO    18592000   \n",
       "3           CASANARE               MANÍ    85139000   \n",
       "4       CUNDINAMARCA   BOGOTÁ D.C. (CT)    11001000   \n",
       "...              ...                ...         ...   \n",
       "476965       VICHADA      SANTA ROSALÍA    99624000   \n",
       "476966       VICHADA      SANTA ROSALÍA    99624000   \n",
       "476967       VICHADA      SANTA ROSALÍA    99624000   \n",
       "476968  CUNDINAMARCA              TAUSA    25793000   \n",
       "476969  CUNDINAMARCA          ZIPAQUIRÁ    25899000   \n",
       "\n",
       "                       ARMAS MEDIOS FECHA HECHO     GENERO GRUPO ETARIO  \\\n",
       "0       ARMA BLANCA / CORTOPUNZANTE   1/01/2010  MASCULINO      ADULTOS   \n",
       "1       ARMA BLANCA / CORTOPUNZANTE   1/01/2010   FEMENINO      ADULTOS   \n",
       "2       ARMA BLANCA / CORTOPUNZANTE   1/01/2010  MASCULINO      ADULTOS   \n",
       "3       ARMA BLANCA / CORTOPUNZANTE   1/01/2010   FEMENINO      ADULTOS   \n",
       "4       ARMA BLANCA / CORTOPUNZANTE   1/01/2010   FEMENINO      ADULTOS   \n",
       "...                             ...         ...        ...          ...   \n",
       "476965          SIN EMPLEO DE ARMAS       44250   FEMENINO      MENORES   \n",
       "476966          SIN EMPLEO DE ARMAS       44262   FEMENINO      ADULTOS   \n",
       "476967          SIN EMPLEO DE ARMAS       44300   FEMENINO      ADULTOS   \n",
       "476968                 CONTUNDENTES       44294   FEMENINO      ADULTOS   \n",
       "476969                 CONTUNDENTES       44245   FEMENINO      ADULTOS   \n",
       "\n",
       "        CANTIDAD  \n",
       "0              1  \n",
       "1              1  \n",
       "2              1  \n",
       "3              1  \n",
       "4              1  \n",
       "...          ...  \n",
       "476965         1  \n",
       "476966         1  \n",
       "476967         1  \n",
       "476968         1  \n",
       "476969         1  \n",
       "\n",
       "[476970 rows x 8 columns]"
      ]
     },
     "execution_count": 8,
     "metadata": {},
     "output_type": "execute_result"
    }
   ],
   "source": [
    "data"
   ]
  },
  {
   "cell_type": "markdown",
   "id": "6fe8ee91",
   "metadata": {
    "papermill": {
     "duration": 0.037411,
     "end_time": "2021-07-16T08:22:08.631068",
     "exception": false,
     "start_time": "2021-07-16T08:22:08.593657",
     "status": "completed"
    },
    "tags": []
   },
   "source": [
    "**Visualising the Data**\n"
   ]
  },
  {
   "cell_type": "code",
   "execution_count": 9,
   "id": "279fdf65",
   "metadata": {
    "execution": {
     "iopub.execute_input": "2021-07-16T08:22:08.709501Z",
     "iopub.status.busy": "2021-07-16T08:22:08.708885Z",
     "iopub.status.idle": "2021-07-16T08:22:09.652655Z",
     "shell.execute_reply": "2021-07-16T08:22:09.652134Z"
    },
    "papermill": {
     "duration": 0.984109,
     "end_time": "2021-07-16T08:22:09.652802",
     "exception": false,
     "start_time": "2021-07-16T08:22:08.668693",
     "status": "completed"
    },
    "tags": []
   },
   "outputs": [
    {
     "data": {
      "image/png": "[encoded data removed]",
      "text/plain": [
       "<Figure size 1080x360 with 1 Axes>"
      ]
     },
     "metadata": {
      "needs_background": "light"
     },
     "output_type": "display_data"
    }
   ],
   "source": [
    "plt.figure(figsize=(15,5))\n",
    "sns.countplot(x=data['DEPARTAMENTO'])\n",
    "plt.xticks(rotation=90)\n",
    "plt.show()"
   ]
  },
  {
   "cell_type": "code",
   "execution_count": 10,
   "id": "df7749f7",
   "metadata": {
    "execution": {
     "iopub.execute_input": "2021-07-16T08:22:09.736904Z",
     "iopub.status.busy": "2021-07-16T08:22:09.736220Z",
     "iopub.status.idle": "2021-07-16T08:22:09.824588Z",
     "shell.execute_reply": "2021-07-16T08:22:09.823918Z"
    },
    "papermill": {
     "duration": 0.132502,
     "end_time": "2021-07-16T08:22:09.824738",
     "exception": false,
     "start_time": "2021-07-16T08:22:09.692236",
     "status": "completed"
    },
    "tags": []
   },
   "outputs": [
    {
     "data": {
      "text/html": [
       "<div>\n",
       "<style scoped>\n",
       "    .dataframe tbody tr th:only-of-type {\n",
       "        vertical-align: middle;\n",
       "    }\n",
       "\n",
       "    .dataframe tbody tr th {\n",
       "        vertical-align: top;\n",
       "    }\n",
       "\n",
       "    .dataframe thead th {\n",
       "        text-align: right;\n",
       "    }\n",
       "</style>\n",
       "<table border=\"1\" class=\"dataframe\">\n",
       "  <thead>\n",
       "    <tr style=\"text-align: right;\">\n",
       "      <th></th>\n",
       "      <th>DEPARTAMENTO</th>\n",
       "      <th>MUNICIPIO</th>\n",
       "      <th>ARMAS MEDIOS</th>\n",
       "      <th>GENERO</th>\n",
       "      <th>GRUPO ETARIO</th>\n",
       "      <th>CANTIDAD</th>\n",
       "    </tr>\n",
       "  </thead>\n",
       "  <tbody>\n",
       "    <tr>\n",
       "      <th>0</th>\n",
       "      <td>ATLÁNTICO</td>\n",
       "      <td>BARRANQUILLA (CT)</td>\n",
       "      <td>ARMA BLANCA / CORTOPUNZANTE</td>\n",
       "      <td>MASCULINO</td>\n",
       "      <td>ADULTOS</td>\n",
       "      <td>1</td>\n",
       "    </tr>\n",
       "    <tr>\n",
       "      <th>1</th>\n",
       "      <td>BOYACÁ</td>\n",
       "      <td>DUITAMA</td>\n",
       "      <td>ARMA BLANCA / CORTOPUNZANTE</td>\n",
       "      <td>FEMENINO</td>\n",
       "      <td>ADULTOS</td>\n",
       "      <td>1</td>\n",
       "    </tr>\n",
       "    <tr>\n",
       "      <th>2</th>\n",
       "      <td>CAQUETÁ</td>\n",
       "      <td>PUERTO RICO</td>\n",
       "      <td>ARMA BLANCA / CORTOPUNZANTE</td>\n",
       "      <td>MASCULINO</td>\n",
       "      <td>ADULTOS</td>\n",
       "      <td>1</td>\n",
       "    </tr>\n",
       "    <tr>\n",
       "      <th>3</th>\n",
       "      <td>CASANARE</td>\n",
       "      <td>MANÍ</td>\n",
       "      <td>ARMA BLANCA / CORTOPUNZANTE</td>\n",
       "      <td>FEMENINO</td>\n",
       "      <td>ADULTOS</td>\n",
       "      <td>1</td>\n",
       "    </tr>\n",
       "    <tr>\n",
       "      <th>4</th>\n",
       "      <td>CUNDINAMARCA</td>\n",
       "      <td>BOGOTÁ D.C. (CT)</td>\n",
       "      <td>ARMA BLANCA / CORTOPUNZANTE</td>\n",
       "      <td>FEMENINO</td>\n",
       "      <td>ADULTOS</td>\n",
       "      <td>1</td>\n",
       "    </tr>\n",
       "  </tbody>\n",
       "</table>\n",
       "</div>"
      ],
      "text/plain": [
       "   DEPARTAMENTO          MUNICIPIO                 ARMAS MEDIOS     GENERO  \\\n",
       "0     ATLÁNTICO  BARRANQUILLA (CT)  ARMA BLANCA / CORTOPUNZANTE  MASCULINO   \n",
       "1        BOYACÁ            DUITAMA  ARMA BLANCA / CORTOPUNZANTE   FEMENINO   \n",
       "2       CAQUETÁ        PUERTO RICO  ARMA BLANCA / CORTOPUNZANTE  MASCULINO   \n",
       "3      CASANARE               MANÍ  ARMA BLANCA / CORTOPUNZANTE   FEMENINO   \n",
       "4  CUNDINAMARCA   BOGOTÁ D.C. (CT)  ARMA BLANCA / CORTOPUNZANTE   FEMENINO   \n",
       "\n",
       "  GRUPO ETARIO  CANTIDAD  \n",
       "0      ADULTOS         1  \n",
       "1      ADULTOS         1  \n",
       "2      ADULTOS         1  \n",
       "3      ADULTOS         1  \n",
       "4      ADULTOS         1  "
      ]
     },
     "execution_count": 10,
     "metadata": {},
     "output_type": "execute_result"
    }
   ],
   "source": [
    "data2=data.copy()\n",
    "data2=data2.drop(['FECHA HECHO', 'CODIGO DANE'], axis=1)\n",
    "data2.head()"
   ]
  },
  {
   "cell_type": "code",
   "execution_count": 11,
   "id": "13a4086f",
   "metadata": {
    "execution": {
     "iopub.execute_input": "2021-07-16T08:22:09.937216Z",
     "iopub.status.busy": "2021-07-16T08:22:09.936555Z",
     "iopub.status.idle": "2021-07-16T08:22:09.953820Z",
     "shell.execute_reply": "2021-07-16T08:22:09.954295Z"
    },
    "papermill": {
     "duration": 0.089989,
     "end_time": "2021-07-16T08:22:09.954470",
     "exception": false,
     "start_time": "2021-07-16T08:22:09.864481",
     "status": "completed"
    },
    "tags": []
   },
   "outputs": [
    {
     "data": {
      "text/plain": [
       "array(['ARMA BLANCA / CORTOPUNZANTE', 'ARMA DE FUEGO', 'CONTUNDENTES',\n",
       "       'CORTANTES', 'CORTOPUNZANTES', 'NO REPORTADO', 'PUNZANTES',\n",
       "       'SIN EMPLEO DE ARMAS', 'NO REPORTA', 'ESCOPOLAMINA', '-'],\n",
       "      dtype=object)"
      ]
     },
     "execution_count": 11,
     "metadata": {},
     "output_type": "execute_result"
    }
   ],
   "source": [
    "data2['ARMAS MEDIOS'].unique()"
   ]
  },
  {
   "cell_type": "code",
   "execution_count": 12,
   "id": "8c42619c",
   "metadata": {
    "execution": {
     "iopub.execute_input": "2021-07-16T08:22:10.037818Z",
     "iopub.status.busy": "2021-07-16T08:22:10.037113Z",
     "iopub.status.idle": "2021-07-16T08:22:10.780646Z",
     "shell.execute_reply": "2021-07-16T08:22:10.781145Z"
    },
    "papermill": {
     "duration": 0.786911,
     "end_time": "2021-07-16T08:22:10.781331",
     "exception": false,
     "start_time": "2021-07-16T08:22:09.994420",
     "status": "completed"
    },
    "tags": []
   },
   "outputs": [
    {
     "data": {
      "image/png": "[encoded data removed]",
      "text/plain": [
       "<Figure size 1080x360 with 1 Axes>"
      ]
     },
     "metadata": {
      "needs_background": "light"
     },
     "output_type": "display_data"
    }
   ],
   "source": [
    "plt.figure(figsize=(15,5))\n",
    "sns.countplot(x=data['ARMAS MEDIOS'])\n",
    "plt.xticks(rotation=90)\n",
    "plt.show()"
   ]
  },
  {
   "cell_type": "code",
   "execution_count": 13,
   "id": "ddbcbe02",
   "metadata": {
    "execution": {
     "iopub.execute_input": "2021-07-16T08:22:10.867693Z",
     "iopub.status.busy": "2021-07-16T08:22:10.866678Z",
     "iopub.status.idle": "2021-07-16T08:22:12.258022Z",
     "shell.execute_reply": "2021-07-16T08:22:12.257325Z"
    },
    "papermill": {
     "duration": 1.435472,
     "end_time": "2021-07-16T08:22:12.258166",
     "exception": false,
     "start_time": "2021-07-16T08:22:10.822694",
     "status": "completed"
    },
    "tags": []
   },
   "outputs": [
    {
     "data": {
      "image/png": "[encoded data removed]",
      "text/plain": [
       "<Figure size 1080x360 with 1 Axes>"
      ]
     },
     "metadata": {
      "needs_background": "light"
     },
     "output_type": "display_data"
    }
   ],
   "source": [
    "plt.figure(figsize=(15,5))\n",
    "sns.countplot(x=data['CANTIDAD'])\n",
    "plt.xticks(rotation=90)\n",
    "plt.show()"
   ]
  },
  {
   "cell_type": "markdown",
   "id": "3199e061",
   "metadata": {
    "papermill": {
     "duration": 0.042267,
     "end_time": "2021-07-16T08:22:12.343442",
     "exception": false,
     "start_time": "2021-07-16T08:22:12.301175",
     "status": "completed"
    },
    "tags": []
   },
   "source": [
    "**In order to be able to work with the Weapon's data, it should be mapped with numbers**\n",
    "\n"
   ]
  },
  {
   "cell_type": "code",
   "execution_count": 14,
   "id": "bd9c5396",
   "metadata": {
    "execution": {
     "iopub.execute_input": "2021-07-16T08:22:12.448912Z",
     "iopub.status.busy": "2021-07-16T08:22:12.440991Z",
     "iopub.status.idle": "2021-07-16T08:22:12.503692Z",
     "shell.execute_reply": "2021-07-16T08:22:12.503103Z"
    },
    "papermill": {
     "duration": 0.117911,
     "end_time": "2021-07-16T08:22:12.503844",
     "exception": false,
     "start_time": "2021-07-16T08:22:12.385933",
     "status": "completed"
    },
    "tags": []
   },
   "outputs": [],
   "source": [
    "data2['ARMAS MEDIOS'] = data2['ARMAS MEDIOS'].map({'ARMA BLANCA / CORTOPUNZANTE': 1, 'ARMA DE FUEGO': 2, 'CONTUNDENTES':3, 'CORTANTES': 4, 'CORTOPUNZANTES': 5,'NO REPORTADO': 3, 'PUNZANTES': 6, 'SIN EMPLEO DE ARMAS': 7,\n",
    "        'NO REPORTA':3, 'ESCOPOLAMINA': 8 ,'-': 3})"
   ]
  },
  {
   "cell_type": "code",
   "execution_count": 15,
   "id": "0e28542b",
   "metadata": {
    "execution": {
     "iopub.execute_input": "2021-07-16T08:22:12.596816Z",
     "iopub.status.busy": "2021-07-16T08:22:12.595867Z",
     "iopub.status.idle": "2021-07-16T08:22:12.600238Z",
     "shell.execute_reply": "2021-07-16T08:22:12.599745Z"
    },
    "papermill": {
     "duration": 0.053812,
     "end_time": "2021-07-16T08:22:12.600380",
     "exception": false,
     "start_time": "2021-07-16T08:22:12.546568",
     "status": "completed"
    },
    "tags": []
   },
   "outputs": [
    {
     "data": {
      "text/plain": [
       "0         1\n",
       "1         1\n",
       "2         1\n",
       "3         1\n",
       "4         1\n",
       "         ..\n",
       "476965    7\n",
       "476966    7\n",
       "476967    7\n",
       "476968    3\n",
       "476969    3\n",
       "Name: ARMAS MEDIOS, Length: 476970, dtype: int64"
      ]
     },
     "execution_count": 15,
     "metadata": {},
     "output_type": "execute_result"
    }
   ],
   "source": [
    "data2['ARMAS MEDIOS']"
   ]
  },
  {
   "cell_type": "code",
   "execution_count": 16,
   "id": "e63d50d5",
   "metadata": {
    "execution": {
     "iopub.execute_input": "2021-07-16T08:22:12.768415Z",
     "iopub.status.busy": "2021-07-16T08:22:12.767495Z",
     "iopub.status.idle": "2021-07-16T08:22:12.771645Z",
     "shell.execute_reply": "2021-07-16T08:22:12.771085Z"
    },
    "papermill": {
     "duration": 0.128006,
     "end_time": "2021-07-16T08:22:12.771788",
     "exception": false,
     "start_time": "2021-07-16T08:22:12.643782",
     "status": "completed"
    },
    "tags": []
   },
   "outputs": [
    {
     "data": {
      "text/plain": [
       "0    BOGOTÁ D.C. (CT)\n",
       "dtype: object"
      ]
     },
     "execution_count": 16,
     "metadata": {},
     "output_type": "execute_result"
    }
   ],
   "source": [
    "data['MUNICIPIO'].mode()"
   ]
  },
  {
   "cell_type": "code",
   "execution_count": 17,
   "id": "9b730a94",
   "metadata": {
    "execution": {
     "iopub.execute_input": "2021-07-16T08:22:12.910160Z",
     "iopub.status.busy": "2021-07-16T08:22:12.909401Z",
     "iopub.status.idle": "2021-07-16T08:22:12.971003Z",
     "shell.execute_reply": "2021-07-16T08:22:12.970413Z"
    },
    "papermill": {
     "duration": 0.155574,
     "end_time": "2021-07-16T08:22:12.971165",
     "exception": false,
     "start_time": "2021-07-16T08:22:12.815591",
     "status": "completed"
    },
    "tags": []
   },
   "outputs": [],
   "source": [
    "data2['MUNICIPIO']=data2['MUNICIPIO'].replace({'NO REPORTA':  'BOGOTÁ D.C. (CT)', '-': 'BOGOTÁ D.C. (CT)'})"
   ]
  },
  {
   "cell_type": "code",
   "execution_count": 18,
   "id": "641e4399",
   "metadata": {
    "execution": {
     "iopub.execute_input": "2021-07-16T08:22:13.137683Z",
     "iopub.status.busy": "2021-07-16T08:22:13.136439Z",
     "iopub.status.idle": "2021-07-16T08:22:13.140364Z",
     "shell.execute_reply": "2021-07-16T08:22:13.140875Z"
    },
    "papermill": {
     "duration": 0.126135,
     "end_time": "2021-07-16T08:22:13.141047",
     "exception": false,
     "start_time": "2021-07-16T08:22:13.014912",
     "status": "completed"
    },
    "tags": []
   },
   "outputs": [
    {
     "data": {
      "text/plain": [
       "0    CUNDINAMARCA\n",
       "dtype: object"
      ]
     },
     "execution_count": 18,
     "metadata": {},
     "output_type": "execute_result"
    }
   ],
   "source": [
    "data['DEPARTAMENTO'].mode()"
   ]
  },
  {
   "cell_type": "code",
   "execution_count": 19,
   "id": "840df9b2",
   "metadata": {
    "execution": {
     "iopub.execute_input": "2021-07-16T08:22:13.281716Z",
     "iopub.status.busy": "2021-07-16T08:22:13.280972Z",
     "iopub.status.idle": "2021-07-16T08:22:14.131669Z",
     "shell.execute_reply": "2021-07-16T08:22:14.132178Z"
    },
    "papermill": {
     "duration": 0.94697,
     "end_time": "2021-07-16T08:22:14.132348",
     "exception": false,
     "start_time": "2021-07-16T08:22:13.185378",
     "status": "completed"
    },
    "tags": []
   },
   "outputs": [
    {
     "data": {
      "image/png": "[encoded data removed]",
      "text/plain": [
       "<Figure size 1080x360 with 1 Axes>"
      ]
     },
     "metadata": {
      "needs_background": "light"
     },
     "output_type": "display_data"
    }
   ],
   "source": [
    "plt.figure(figsize=(15,5))\n",
    "sns.countplot(x=data2['DEPARTAMENTO'])\n",
    "plt.xticks(rotation=90)\n",
    "plt.show()"
   ]
  },
  {
   "cell_type": "code",
   "execution_count": 20,
   "id": "e04198f9",
   "metadata": {
    "execution": {
     "iopub.execute_input": "2021-07-16T08:22:14.274988Z",
     "iopub.status.busy": "2021-07-16T08:22:14.274252Z",
     "iopub.status.idle": "2021-07-16T08:22:14.327019Z",
     "shell.execute_reply": "2021-07-16T08:22:14.326350Z"
    },
    "papermill": {
     "duration": 0.148426,
     "end_time": "2021-07-16T08:22:14.327165",
     "exception": false,
     "start_time": "2021-07-16T08:22:14.178739",
     "status": "completed"
    },
    "tags": []
   },
   "outputs": [],
   "source": [
    "data2['DEPARTAMENTO']=data2['DEPARTAMENTO'].replace({'NO REPORTA':  'CUNDINAMARCA', '-': 'CUNDINAMARCA'})"
   ]
  },
  {
   "cell_type": "code",
   "execution_count": 21,
   "id": "1de07e99",
   "metadata": {
    "execution": {
     "iopub.execute_input": "2021-07-16T08:22:14.498336Z",
     "iopub.status.busy": "2021-07-16T08:22:14.470147Z",
     "iopub.status.idle": "2021-07-16T08:22:15.119847Z",
     "shell.execute_reply": "2021-07-16T08:22:15.119200Z"
    },
    "papermill": {
     "duration": 0.747096,
     "end_time": "2021-07-16T08:22:15.119988",
     "exception": false,
     "start_time": "2021-07-16T08:22:14.372892",
     "status": "completed"
    },
    "tags": []
   },
   "outputs": [
    {
     "data": {
      "image/png": "[encoded data removed]",
      "text/plain": [
       "<Figure size 1080x360 with 1 Axes>"
      ]
     },
     "metadata": {
      "needs_background": "light"
     },
     "output_type": "display_data"
    }
   ],
   "source": [
    "plt.figure(figsize=(15,5))\n",
    "sns.countplot(x=data['GRUPO ETARIO'])\n",
    "plt.xticks(rotation=90)\n",
    "plt.show()"
   ]
  },
  {
   "cell_type": "code",
   "execution_count": 22,
   "id": "e74638a3",
   "metadata": {
    "execution": {
     "iopub.execute_input": "2021-07-16T08:22:15.269205Z",
     "iopub.status.busy": "2021-07-16T08:22:15.268107Z",
     "iopub.status.idle": "2021-07-16T08:22:15.302779Z",
     "shell.execute_reply": "2021-07-16T08:22:15.302096Z"
    },
    "papermill": {
     "duration": 0.134615,
     "end_time": "2021-07-16T08:22:15.302928",
     "exception": false,
     "start_time": "2021-07-16T08:22:15.168313",
     "status": "completed"
    },
    "tags": []
   },
   "outputs": [],
   "source": [
    "data2['GRUPO ETARIO']=data2['GRUPO ETARIO'].replace({'NO REPORTA': 'ADULTOS'})"
   ]
  },
  {
   "cell_type": "code",
   "execution_count": 23,
   "id": "2d6f39b0",
   "metadata": {
    "execution": {
     "iopub.execute_input": "2021-07-16T08:22:15.476874Z",
     "iopub.status.busy": "2021-07-16T08:22:15.448218Z",
     "iopub.status.idle": "2021-07-16T08:22:16.073755Z",
     "shell.execute_reply": "2021-07-16T08:22:16.073144Z"
    },
    "papermill": {
     "duration": 0.723956,
     "end_time": "2021-07-16T08:22:16.073901",
     "exception": false,
     "start_time": "2021-07-16T08:22:15.349945",
     "status": "completed"
    },
    "tags": []
   },
   "outputs": [
    {
     "data": {
      "image/png": "[encoded data removed]",
      "text/plain": [
       "<Figure size 1080x360 with 1 Axes>"
      ]
     },
     "metadata": {
      "needs_background": "light"
     },
     "output_type": "display_data"
    }
   ],
   "source": [
    "plt.figure(figsize=(15,5))\n",
    "sns.countplot(x=data2['GRUPO ETARIO'])\n",
    "plt.xticks(rotation=90)\n",
    "plt.show()"
   ]
  },
  {
   "cell_type": "code",
   "execution_count": 24,
   "id": "dd1e7122",
   "metadata": {
    "execution": {
     "iopub.execute_input": "2021-07-16T08:22:16.221138Z",
     "iopub.status.busy": "2021-07-16T08:22:16.220067Z",
     "iopub.status.idle": "2021-07-16T08:22:16.276890Z",
     "shell.execute_reply": "2021-07-16T08:22:16.276202Z"
    },
    "papermill": {
     "duration": 0.155542,
     "end_time": "2021-07-16T08:22:16.277033",
     "exception": false,
     "start_time": "2021-07-16T08:22:16.121491",
     "status": "completed"
    },
    "tags": []
   },
   "outputs": [],
   "source": [
    "data2['GENERO']=data2['GENERO'].replace({'-': 'FEMENINO', 'NO REPORTA': 'FEMENINO'})"
   ]
  },
  {
   "cell_type": "code",
   "execution_count": 25,
   "id": "043b3038",
   "metadata": {
    "execution": {
     "iopub.execute_input": "2021-07-16T08:22:16.402601Z",
     "iopub.status.busy": "2021-07-16T08:22:16.383748Z",
     "iopub.status.idle": "2021-07-16T08:22:16.417466Z",
     "shell.execute_reply": "2021-07-16T08:22:16.416918Z"
    },
    "papermill": {
     "duration": 0.092923,
     "end_time": "2021-07-16T08:22:16.417638",
     "exception": false,
     "start_time": "2021-07-16T08:22:16.324715",
     "status": "completed"
    },
    "tags": []
   },
   "outputs": [
    {
     "data": {
      "text/plain": [
       "array(['MASCULINO', 'FEMENINO'], dtype=object)"
      ]
     },
     "execution_count": 25,
     "metadata": {},
     "output_type": "execute_result"
    }
   ],
   "source": [
    "data2['GENERO'].unique()"
   ]
  },
  {
   "cell_type": "code",
   "execution_count": 26,
   "id": "6646fae6",
   "metadata": {
    "execution": {
     "iopub.execute_input": "2021-07-16T08:22:16.529070Z",
     "iopub.status.busy": "2021-07-16T08:22:16.528133Z",
     "iopub.status.idle": "2021-07-16T08:22:16.532502Z",
     "shell.execute_reply": "2021-07-16T08:22:16.531971Z"
    },
    "papermill": {
     "duration": 0.065499,
     "end_time": "2021-07-16T08:22:16.532713",
     "exception": false,
     "start_time": "2021-07-16T08:22:16.467214",
     "status": "completed"
    },
    "tags": []
   },
   "outputs": [
    {
     "data": {
      "text/html": [
       "<div>\n",
       "<style scoped>\n",
       "    .dataframe tbody tr th:only-of-type {\n",
       "        vertical-align: middle;\n",
       "    }\n",
       "\n",
       "    .dataframe tbody tr th {\n",
       "        vertical-align: top;\n",
       "    }\n",
       "\n",
       "    .dataframe thead th {\n",
       "        text-align: right;\n",
       "    }\n",
       "</style>\n",
       "<table border=\"1\" class=\"dataframe\">\n",
       "  <thead>\n",
       "    <tr style=\"text-align: right;\">\n",
       "      <th></th>\n",
       "      <th>DEPARTAMENTO</th>\n",
       "      <th>MUNICIPIO</th>\n",
       "      <th>ARMAS MEDIOS</th>\n",
       "      <th>GENERO</th>\n",
       "      <th>GRUPO ETARIO</th>\n",
       "      <th>CANTIDAD</th>\n",
       "    </tr>\n",
       "  </thead>\n",
       "  <tbody>\n",
       "    <tr>\n",
       "      <th>0</th>\n",
       "      <td>ATLÁNTICO</td>\n",
       "      <td>BARRANQUILLA (CT)</td>\n",
       "      <td>1</td>\n",
       "      <td>MASCULINO</td>\n",
       "      <td>ADULTOS</td>\n",
       "      <td>1</td>\n",
       "    </tr>\n",
       "    <tr>\n",
       "      <th>1</th>\n",
       "      <td>BOYACÁ</td>\n",
       "      <td>DUITAMA</td>\n",
       "      <td>1</td>\n",
       "      <td>FEMENINO</td>\n",
       "      <td>ADULTOS</td>\n",
       "      <td>1</td>\n",
       "    </tr>\n",
       "    <tr>\n",
       "      <th>2</th>\n",
       "      <td>CAQUETÁ</td>\n",
       "      <td>PUERTO RICO</td>\n",
       "      <td>1</td>\n",
       "      <td>MASCULINO</td>\n",
       "      <td>ADULTOS</td>\n",
       "      <td>1</td>\n",
       "    </tr>\n",
       "    <tr>\n",
       "      <th>3</th>\n",
       "      <td>CASANARE</td>\n",
       "      <td>MANÍ</td>\n",
       "      <td>1</td>\n",
       "      <td>FEMENINO</td>\n",
       "      <td>ADULTOS</td>\n",
       "      <td>1</td>\n",
       "    </tr>\n",
       "    <tr>\n",
       "      <th>4</th>\n",
       "      <td>CUNDINAMARCA</td>\n",
       "      <td>BOGOTÁ D.C. (CT)</td>\n",
       "      <td>1</td>\n",
       "      <td>FEMENINO</td>\n",
       "      <td>ADULTOS</td>\n",
       "      <td>1</td>\n",
       "    </tr>\n",
       "  </tbody>\n",
       "</table>\n",
       "</div>"
      ],
      "text/plain": [
       "   DEPARTAMENTO          MUNICIPIO  ARMAS MEDIOS     GENERO GRUPO ETARIO  \\\n",
       "0     ATLÁNTICO  BARRANQUILLA (CT)             1  MASCULINO      ADULTOS   \n",
       "1        BOYACÁ            DUITAMA             1   FEMENINO      ADULTOS   \n",
       "2       CAQUETÁ        PUERTO RICO             1  MASCULINO      ADULTOS   \n",
       "3      CASANARE               MANÍ             1   FEMENINO      ADULTOS   \n",
       "4  CUNDINAMARCA   BOGOTÁ D.C. (CT)             1   FEMENINO      ADULTOS   \n",
       "\n",
       "   CANTIDAD  \n",
       "0         1  \n",
       "1         1  \n",
       "2         1  \n",
       "3         1  \n",
       "4         1  "
      ]
     },
     "execution_count": 26,
     "metadata": {},
     "output_type": "execute_result"
    }
   ],
   "source": [
    "data2.head()"
   ]
  },
  {
   "cell_type": "code",
   "execution_count": 27,
   "id": "8eb6c107",
   "metadata": {
    "execution": {
     "iopub.execute_input": "2021-07-16T08:22:16.635557Z",
     "iopub.status.busy": "2021-07-16T08:22:16.634863Z",
     "iopub.status.idle": "2021-07-16T08:22:17.287036Z",
     "shell.execute_reply": "2021-07-16T08:22:17.287667Z"
    },
    "papermill": {
     "duration": 0.706481,
     "end_time": "2021-07-16T08:22:17.287932",
     "exception": false,
     "start_time": "2021-07-16T08:22:16.581451",
     "status": "completed"
    },
    "tags": []
   },
   "outputs": [
    {
     "data": {
      "image/png": "[encoded data removed]",
      "text/plain": [
       "<Figure size 1080x360 with 1 Axes>"
      ]
     },
     "metadata": {
      "needs_background": "light"
     },
     "output_type": "display_data"
    }
   ],
   "source": [
    "plt.figure(figsize=(15,5))\n",
    "sns.countplot(x=data2['GENERO'])\n",
    "plt.xticks(rotation=90)\n",
    "plt.show()"
   ]
  },
  {
   "cell_type": "code",
   "execution_count": 28,
   "id": "ca456366",
   "metadata": {
    "execution": {
     "iopub.execute_input": "2021-07-16T08:22:17.391040Z",
     "iopub.status.busy": "2021-07-16T08:22:17.390394Z",
     "iopub.status.idle": "2021-07-16T08:22:17.435069Z",
     "shell.execute_reply": "2021-07-16T08:22:17.434344Z"
    },
    "papermill": {
     "duration": 0.097106,
     "end_time": "2021-07-16T08:22:17.435231",
     "exception": false,
     "start_time": "2021-07-16T08:22:17.338125",
     "status": "completed"
    },
    "tags": []
   },
   "outputs": [],
   "source": [
    "trainx=data2.copy()\n",
    "trainx=trainx.drop('ARMAS MEDIOS', axis=1)\n",
    "\n",
    "trainy=data2['ARMAS MEDIOS']"
   ]
  },
  {
   "cell_type": "code",
   "execution_count": 29,
   "id": "920b8b5b",
   "metadata": {
    "execution": {
     "iopub.execute_input": "2021-07-16T08:22:17.541418Z",
     "iopub.status.busy": "2021-07-16T08:22:17.540673Z",
     "iopub.status.idle": "2021-07-16T08:22:22.448206Z",
     "shell.execute_reply": "2021-07-16T08:22:22.447432Z"
    },
    "papermill": {
     "duration": 4.963192,
     "end_time": "2021-07-16T08:22:22.448356",
     "exception": false,
     "start_time": "2021-07-16T08:22:17.485164",
     "status": "completed"
    },
    "tags": []
   },
   "outputs": [],
   "source": [
    "trainx_encoded = pd.get_dummies(trainx, columns = ['MUNICIPIO', 'DEPARTAMENTO', 'GENERO','GRUPO ETARIO'])"
   ]
  },
  {
   "cell_type": "code",
   "execution_count": 30,
   "id": "9cd47299",
   "metadata": {
    "execution": {
     "iopub.execute_input": "2021-07-16T08:22:22.564003Z",
     "iopub.status.busy": "2021-07-16T08:22:22.563320Z",
     "iopub.status.idle": "2021-07-16T08:22:22.566407Z",
     "shell.execute_reply": "2021-07-16T08:22:22.566871Z"
    },
    "papermill": {
     "duration": 0.068113,
     "end_time": "2021-07-16T08:22:22.567058",
     "exception": false,
     "start_time": "2021-07-16T08:22:22.498945",
     "status": "completed"
    },
    "tags": []
   },
   "outputs": [
    {
     "data": {
      "text/html": [
       "<div>\n",
       "<style scoped>\n",
       "    .dataframe tbody tr th:only-of-type {\n",
       "        vertical-align: middle;\n",
       "    }\n",
       "\n",
       "    .dataframe tbody tr th {\n",
       "        vertical-align: top;\n",
       "    }\n",
       "\n",
       "    .dataframe thead th {\n",
       "        text-align: right;\n",
       "    }\n",
       "</style>\n",
       "<table border=\"1\" class=\"dataframe\">\n",
       "  <thead>\n",
       "    <tr style=\"text-align: right;\">\n",
       "      <th></th>\n",
       "      <th>DEPARTAMENTO</th>\n",
       "      <th>MUNICIPIO</th>\n",
       "      <th>GENERO</th>\n",
       "      <th>GRUPO ETARIO</th>\n",
       "      <th>CANTIDAD</th>\n",
       "    </tr>\n",
       "  </thead>\n",
       "  <tbody>\n",
       "    <tr>\n",
       "      <th>0</th>\n",
       "      <td>ATLÁNTICO</td>\n",
       "      <td>BARRANQUILLA (CT)</td>\n",
       "      <td>MASCULINO</td>\n",
       "      <td>ADULTOS</td>\n",
       "      <td>1</td>\n",
       "    </tr>\n",
       "    <tr>\n",
       "      <th>1</th>\n",
       "      <td>BOYACÁ</td>\n",
       "      <td>DUITAMA</td>\n",
       "      <td>FEMENINO</td>\n",
       "      <td>ADULTOS</td>\n",
       "      <td>1</td>\n",
       "    </tr>\n",
       "    <tr>\n",
       "      <th>2</th>\n",
       "      <td>CAQUETÁ</td>\n",
       "      <td>PUERTO RICO</td>\n",
       "      <td>MASCULINO</td>\n",
       "      <td>ADULTOS</td>\n",
       "      <td>1</td>\n",
       "    </tr>\n",
       "    <tr>\n",
       "      <th>3</th>\n",
       "      <td>CASANARE</td>\n",
       "      <td>MANÍ</td>\n",
       "      <td>FEMENINO</td>\n",
       "      <td>ADULTOS</td>\n",
       "      <td>1</td>\n",
       "    </tr>\n",
       "    <tr>\n",
       "      <th>4</th>\n",
       "      <td>CUNDINAMARCA</td>\n",
       "      <td>BOGOTÁ D.C. (CT)</td>\n",
       "      <td>FEMENINO</td>\n",
       "      <td>ADULTOS</td>\n",
       "      <td>1</td>\n",
       "    </tr>\n",
       "    <tr>\n",
       "      <th>...</th>\n",
       "      <td>...</td>\n",
       "      <td>...</td>\n",
       "      <td>...</td>\n",
       "      <td>...</td>\n",
       "      <td>...</td>\n",
       "    </tr>\n",
       "    <tr>\n",
       "      <th>476965</th>\n",
       "      <td>VICHADA</td>\n",
       "      <td>SANTA ROSALÍA</td>\n",
       "      <td>FEMENINO</td>\n",
       "      <td>MENORES</td>\n",
       "      <td>1</td>\n",
       "    </tr>\n",
       "    <tr>\n",
       "      <th>476966</th>\n",
       "      <td>VICHADA</td>\n",
       "      <td>SANTA ROSALÍA</td>\n",
       "      <td>FEMENINO</td>\n",
       "      <td>ADULTOS</td>\n",
       "      <td>1</td>\n",
       "    </tr>\n",
       "    <tr>\n",
       "      <th>476967</th>\n",
       "      <td>VICHADA</td>\n",
       "      <td>SANTA ROSALÍA</td>\n",
       "      <td>FEMENINO</td>\n",
       "      <td>ADULTOS</td>\n",
       "      <td>1</td>\n",
       "    </tr>\n",
       "    <tr>\n",
       "      <th>476968</th>\n",
       "      <td>CUNDINAMARCA</td>\n",
       "      <td>TAUSA</td>\n",
       "      <td>FEMENINO</td>\n",
       "      <td>ADULTOS</td>\n",
       "      <td>1</td>\n",
       "    </tr>\n",
       "    <tr>\n",
       "      <th>476969</th>\n",
       "      <td>CUNDINAMARCA</td>\n",
       "      <td>ZIPAQUIRÁ</td>\n",
       "      <td>FEMENINO</td>\n",
       "      <td>ADULTOS</td>\n",
       "      <td>1</td>\n",
       "    </tr>\n",
       "  </tbody>\n",
       "</table>\n",
       "<p>476970 rows × 5 columns</p>\n",
       "</div>"
      ],
      "text/plain": [
       "        DEPARTAMENTO          MUNICIPIO     GENERO GRUPO ETARIO  CANTIDAD\n",
       "0          ATLÁNTICO  BARRANQUILLA (CT)  MASCULINO      ADULTOS         1\n",
       "1             BOYACÁ            DUITAMA   FEMENINO      ADULTOS         1\n",
       "2            CAQUETÁ        PUERTO RICO  MASCULINO      ADULTOS         1\n",
       "3           CASANARE               MANÍ   FEMENINO      ADULTOS         1\n",
       "4       CUNDINAMARCA   BOGOTÁ D.C. (CT)   FEMENINO      ADULTOS         1\n",
       "...              ...                ...        ...          ...       ...\n",
       "476965       VICHADA      SANTA ROSALÍA   FEMENINO      MENORES         1\n",
       "476966       VICHADA      SANTA ROSALÍA   FEMENINO      ADULTOS         1\n",
       "476967       VICHADA      SANTA ROSALÍA   FEMENINO      ADULTOS         1\n",
       "476968  CUNDINAMARCA              TAUSA   FEMENINO      ADULTOS         1\n",
       "476969  CUNDINAMARCA          ZIPAQUIRÁ   FEMENINO      ADULTOS         1\n",
       "\n",
       "[476970 rows x 5 columns]"
      ]
     },
     "execution_count": 30,
     "metadata": {},
     "output_type": "execute_result"
    }
   ],
   "source": [
    "trainx"
   ]
  },
  {
   "cell_type": "code",
   "execution_count": 31,
   "id": "cffff30d",
   "metadata": {
    "execution": {
     "iopub.execute_input": "2021-07-16T08:22:22.671869Z",
     "iopub.status.busy": "2021-07-16T08:22:22.671193Z",
     "iopub.status.idle": "2021-07-16T08:22:22.676990Z",
     "shell.execute_reply": "2021-07-16T08:22:22.677441Z"
    },
    "papermill": {
     "duration": 0.05978,
     "end_time": "2021-07-16T08:22:22.677634",
     "exception": false,
     "start_time": "2021-07-16T08:22:22.617854",
     "status": "completed"
    },
    "tags": []
   },
   "outputs": [
    {
     "data": {
      "text/plain": [
       "Index(['CANTIDAD', 'MUNICIPIO_ABEJORRAL', 'MUNICIPIO_ABREGO',\n",
       "       'MUNICIPIO_ABRIAQUÍ', 'MUNICIPIO_ACACÍAS', 'MUNICIPIO_ACANDÍ',\n",
       "       'MUNICIPIO_ACEVEDO', 'MUNICIPIO_ACHÍ', 'MUNICIPIO_AGRADO',\n",
       "       'MUNICIPIO_AGUA DE DIOS',\n",
       "       ...\n",
       "       'DEPARTAMENTO_SUCRE', 'DEPARTAMENTO_TOLIMA', 'DEPARTAMENTO_VALLE',\n",
       "       'DEPARTAMENTO_VAUPÉS', 'DEPARTAMENTO_VICHADA', 'GENERO_FEMENINO',\n",
       "       'GENERO_MASCULINO', 'GRUPO ETARIO_ADOLESCENTES', 'GRUPO ETARIO_ADULTOS',\n",
       "       'GRUPO ETARIO_MENORES'],\n",
       "      dtype='object', length=1059)"
      ]
     },
     "execution_count": 31,
     "metadata": {},
     "output_type": "execute_result"
    }
   ],
   "source": [
    "trainx_encoded.columns.unique()"
   ]
  },
  {
   "cell_type": "code",
   "execution_count": 32,
   "id": "7b1668ad",
   "metadata": {
    "execution": {
     "iopub.execute_input": "2021-07-16T08:22:22.784128Z",
     "iopub.status.busy": "2021-07-16T08:22:22.783475Z",
     "iopub.status.idle": "2021-07-16T08:22:22.829565Z",
     "shell.execute_reply": "2021-07-16T08:22:22.830110Z"
    },
    "papermill": {
     "duration": 0.101362,
     "end_time": "2021-07-16T08:22:22.830286",
     "exception": false,
     "start_time": "2021-07-16T08:22:22.728924",
     "status": "completed"
    },
    "tags": []
   },
   "outputs": [
    {
     "data": {
      "text/html": [
       "<div>\n",
       "<style scoped>\n",
       "    .dataframe tbody tr th:only-of-type {\n",
       "        vertical-align: middle;\n",
       "    }\n",
       "\n",
       "    .dataframe tbody tr th {\n",
       "        vertical-align: top;\n",
       "    }\n",
       "\n",
       "    .dataframe thead th {\n",
       "        text-align: right;\n",
       "    }\n",
       "</style>\n",
       "<table border=\"1\" class=\"dataframe\">\n",
       "  <thead>\n",
       "    <tr style=\"text-align: right;\">\n",
       "      <th></th>\n",
       "      <th>CANTIDAD</th>\n",
       "      <th>MUNICIPIO_ABEJORRAL</th>\n",
       "      <th>MUNICIPIO_ABREGO</th>\n",
       "      <th>MUNICIPIO_ABRIAQUÍ</th>\n",
       "      <th>MUNICIPIO_ACACÍAS</th>\n",
       "      <th>MUNICIPIO_ACANDÍ</th>\n",
       "      <th>MUNICIPIO_ACEVEDO</th>\n",
       "      <th>MUNICIPIO_ACHÍ</th>\n",
       "      <th>MUNICIPIO_AGRADO</th>\n",
       "      <th>MUNICIPIO_AGUA DE DIOS</th>\n",
       "      <th>...</th>\n",
       "      <th>DEPARTAMENTO_SUCRE</th>\n",
       "      <th>DEPARTAMENTO_TOLIMA</th>\n",
       "      <th>DEPARTAMENTO_VALLE</th>\n",
       "      <th>DEPARTAMENTO_VAUPÉS</th>\n",
       "      <th>DEPARTAMENTO_VICHADA</th>\n",
       "      <th>GENERO_FEMENINO</th>\n",
       "      <th>GENERO_MASCULINO</th>\n",
       "      <th>GRUPO ETARIO_ADOLESCENTES</th>\n",
       "      <th>GRUPO ETARIO_ADULTOS</th>\n",
       "      <th>GRUPO ETARIO_MENORES</th>\n",
       "    </tr>\n",
       "  </thead>\n",
       "  <tbody>\n",
       "    <tr>\n",
       "      <th>0</th>\n",
       "      <td>1</td>\n",
       "      <td>0</td>\n",
       "      <td>0</td>\n",
       "      <td>0</td>\n",
       "      <td>0</td>\n",
       "      <td>0</td>\n",
       "      <td>0</td>\n",
       "      <td>0</td>\n",
       "      <td>0</td>\n",
       "      <td>0</td>\n",
       "      <td>...</td>\n",
       "      <td>0</td>\n",
       "      <td>0</td>\n",
       "      <td>0</td>\n",
       "      <td>0</td>\n",
       "      <td>0</td>\n",
       "      <td>0</td>\n",
       "      <td>1</td>\n",
       "      <td>0</td>\n",
       "      <td>1</td>\n",
       "      <td>0</td>\n",
       "    </tr>\n",
       "    <tr>\n",
       "      <th>1</th>\n",
       "      <td>1</td>\n",
       "      <td>0</td>\n",
       "      <td>0</td>\n",
       "      <td>0</td>\n",
       "      <td>0</td>\n",
       "      <td>0</td>\n",
       "      <td>0</td>\n",
       "      <td>0</td>\n",
       "      <td>0</td>\n",
       "      <td>0</td>\n",
       "      <td>...</td>\n",
       "      <td>0</td>\n",
       "      <td>0</td>\n",
       "      <td>0</td>\n",
       "      <td>0</td>\n",
       "      <td>0</td>\n",
       "      <td>1</td>\n",
       "      <td>0</td>\n",
       "      <td>0</td>\n",
       "      <td>1</td>\n",
       "      <td>0</td>\n",
       "    </tr>\n",
       "    <tr>\n",
       "      <th>2</th>\n",
       "      <td>1</td>\n",
       "      <td>0</td>\n",
       "      <td>0</td>\n",
       "      <td>0</td>\n",
       "      <td>0</td>\n",
       "      <td>0</td>\n",
       "      <td>0</td>\n",
       "      <td>0</td>\n",
       "      <td>0</td>\n",
       "      <td>0</td>\n",
       "      <td>...</td>\n",
       "      <td>0</td>\n",
       "      <td>0</td>\n",
       "      <td>0</td>\n",
       "      <td>0</td>\n",
       "      <td>0</td>\n",
       "      <td>0</td>\n",
       "      <td>1</td>\n",
       "      <td>0</td>\n",
       "      <td>1</td>\n",
       "      <td>0</td>\n",
       "    </tr>\n",
       "    <tr>\n",
       "      <th>3</th>\n",
       "      <td>1</td>\n",
       "      <td>0</td>\n",
       "      <td>0</td>\n",
       "      <td>0</td>\n",
       "      <td>0</td>\n",
       "      <td>0</td>\n",
       "      <td>0</td>\n",
       "      <td>0</td>\n",
       "      <td>0</td>\n",
       "      <td>0</td>\n",
       "      <td>...</td>\n",
       "      <td>0</td>\n",
       "      <td>0</td>\n",
       "      <td>0</td>\n",
       "      <td>0</td>\n",
       "      <td>0</td>\n",
       "      <td>1</td>\n",
       "      <td>0</td>\n",
       "      <td>0</td>\n",
       "      <td>1</td>\n",
       "      <td>0</td>\n",
       "    </tr>\n",
       "    <tr>\n",
       "      <th>4</th>\n",
       "      <td>1</td>\n",
       "      <td>0</td>\n",
       "      <td>0</td>\n",
       "      <td>0</td>\n",
       "      <td>0</td>\n",
       "      <td>0</td>\n",
       "      <td>0</td>\n",
       "      <td>0</td>\n",
       "      <td>0</td>\n",
       "      <td>0</td>\n",
       "      <td>...</td>\n",
       "      <td>0</td>\n",
       "      <td>0</td>\n",
       "      <td>0</td>\n",
       "      <td>0</td>\n",
       "      <td>0</td>\n",
       "      <td>1</td>\n",
       "      <td>0</td>\n",
       "      <td>0</td>\n",
       "      <td>1</td>\n",
       "      <td>0</td>\n",
       "    </tr>\n",
       "    <tr>\n",
       "      <th>...</th>\n",
       "      <td>...</td>\n",
       "      <td>...</td>\n",
       "      <td>...</td>\n",
       "      <td>...</td>\n",
       "      <td>...</td>\n",
       "      <td>...</td>\n",
       "      <td>...</td>\n",
       "      <td>...</td>\n",
       "      <td>...</td>\n",
       "      <td>...</td>\n",
       "      <td>...</td>\n",
       "      <td>...</td>\n",
       "      <td>...</td>\n",
       "      <td>...</td>\n",
       "      <td>...</td>\n",
       "      <td>...</td>\n",
       "      <td>...</td>\n",
       "      <td>...</td>\n",
       "      <td>...</td>\n",
       "      <td>...</td>\n",
       "      <td>...</td>\n",
       "    </tr>\n",
       "    <tr>\n",
       "      <th>476965</th>\n",
       "      <td>1</td>\n",
       "      <td>0</td>\n",
       "      <td>0</td>\n",
       "      <td>0</td>\n",
       "      <td>0</td>\n",
       "      <td>0</td>\n",
       "      <td>0</td>\n",
       "      <td>0</td>\n",
       "      <td>0</td>\n",
       "      <td>0</td>\n",
       "      <td>...</td>\n",
       "      <td>0</td>\n",
       "      <td>0</td>\n",
       "      <td>0</td>\n",
       "      <td>0</td>\n",
       "      <td>1</td>\n",
       "      <td>1</td>\n",
       "      <td>0</td>\n",
       "      <td>0</td>\n",
       "      <td>0</td>\n",
       "      <td>1</td>\n",
       "    </tr>\n",
       "    <tr>\n",
       "      <th>476966</th>\n",
       "      <td>1</td>\n",
       "      <td>0</td>\n",
       "      <td>0</td>\n",
       "      <td>0</td>\n",
       "      <td>0</td>\n",
       "      <td>0</td>\n",
       "      <td>0</td>\n",
       "      <td>0</td>\n",
       "      <td>0</td>\n",
       "      <td>0</td>\n",
       "      <td>...</td>\n",
       "      <td>0</td>\n",
       "      <td>0</td>\n",
       "      <td>0</td>\n",
       "      <td>0</td>\n",
       "      <td>1</td>\n",
       "      <td>1</td>\n",
       "      <td>0</td>\n",
       "      <td>0</td>\n",
       "      <td>1</td>\n",
       "      <td>0</td>\n",
       "    </tr>\n",
       "    <tr>\n",
       "      <th>476967</th>\n",
       "      <td>1</td>\n",
       "      <td>0</td>\n",
       "      <td>0</td>\n",
       "      <td>0</td>\n",
       "      <td>0</td>\n",
       "      <td>0</td>\n",
       "      <td>0</td>\n",
       "      <td>0</td>\n",
       "      <td>0</td>\n",
       "      <td>0</td>\n",
       "      <td>...</td>\n",
       "      <td>0</td>\n",
       "      <td>0</td>\n",
       "      <td>0</td>\n",
       "      <td>0</td>\n",
       "      <td>1</td>\n",
       "      <td>1</td>\n",
       "      <td>0</td>\n",
       "      <td>0</td>\n",
       "      <td>1</td>\n",
       "      <td>0</td>\n",
       "    </tr>\n",
       "    <tr>\n",
       "      <th>476968</th>\n",
       "      <td>1</td>\n",
       "      <td>0</td>\n",
       "      <td>0</td>\n",
       "      <td>0</td>\n",
       "      <td>0</td>\n",
       "      <td>0</td>\n",
       "      <td>0</td>\n",
       "      <td>0</td>\n",
       "      <td>0</td>\n",
       "      <td>0</td>\n",
       "      <td>...</td>\n",
       "      <td>0</td>\n",
       "      <td>0</td>\n",
       "      <td>0</td>\n",
       "      <td>0</td>\n",
       "      <td>0</td>\n",
       "      <td>1</td>\n",
       "      <td>0</td>\n",
       "      <td>0</td>\n",
       "      <td>1</td>\n",
       "      <td>0</td>\n",
       "    </tr>\n",
       "    <tr>\n",
       "      <th>476969</th>\n",
       "      <td>1</td>\n",
       "      <td>0</td>\n",
       "      <td>0</td>\n",
       "      <td>0</td>\n",
       "      <td>0</td>\n",
       "      <td>0</td>\n",
       "      <td>0</td>\n",
       "      <td>0</td>\n",
       "      <td>0</td>\n",
       "      <td>0</td>\n",
       "      <td>...</td>\n",
       "      <td>0</td>\n",
       "      <td>0</td>\n",
       "      <td>0</td>\n",
       "      <td>0</td>\n",
       "      <td>0</td>\n",
       "      <td>1</td>\n",
       "      <td>0</td>\n",
       "      <td>0</td>\n",
       "      <td>1</td>\n",
       "      <td>0</td>\n",
       "    </tr>\n",
       "  </tbody>\n",
       "</table>\n",
       "<p>476970 rows × 1059 columns</p>\n",
       "</div>"
      ],
      "text/plain": [
       "        CANTIDAD  MUNICIPIO_ABEJORRAL  MUNICIPIO_ABREGO  MUNICIPIO_ABRIAQUÍ  \\\n",
       "0              1                    0                 0                   0   \n",
       "1              1                    0                 0                   0   \n",
       "2              1                    0                 0                   0   \n",
       "3              1                    0                 0                   0   \n",
       "4              1                    0                 0                   0   \n",
       "...          ...                  ...               ...                 ...   \n",
       "476965         1                    0                 0                   0   \n",
       "476966         1                    0                 0                   0   \n",
       "476967         1                    0                 0                   0   \n",
       "476968         1                    0                 0                   0   \n",
       "476969         1                    0                 0                   0   \n",
       "\n",
       "        MUNICIPIO_ACACÍAS  MUNICIPIO_ACANDÍ  MUNICIPIO_ACEVEDO  \\\n",
       "0                       0                 0                  0   \n",
       "1                       0                 0                  0   \n",
       "2                       0                 0                  0   \n",
       "3                       0                 0                  0   \n",
       "4                       0                 0                  0   \n",
       "...                   ...               ...                ...   \n",
       "476965                  0                 0                  0   \n",
       "476966                  0                 0                  0   \n",
       "476967                  0                 0                  0   \n",
       "476968                  0                 0                  0   \n",
       "476969                  0                 0                  0   \n",
       "\n",
       "        MUNICIPIO_ACHÍ  MUNICIPIO_AGRADO  MUNICIPIO_AGUA DE DIOS  ...  \\\n",
       "0                    0                 0                       0  ...   \n",
       "1                    0                 0                       0  ...   \n",
       "2                    0                 0                       0  ...   \n",
       "3                    0                 0                       0  ...   \n",
       "4                    0                 0                       0  ...   \n",
       "...                ...               ...                     ...  ...   \n",
       "476965               0                 0                       0  ...   \n",
       "476966               0                 0                       0  ...   \n",
       "476967               0                 0                       0  ...   \n",
       "476968               0                 0                       0  ...   \n",
       "476969               0                 0                       0  ...   \n",
       "\n",
       "        DEPARTAMENTO_SUCRE  DEPARTAMENTO_TOLIMA  DEPARTAMENTO_VALLE  \\\n",
       "0                        0                    0                   0   \n",
       "1                        0                    0                   0   \n",
       "2                        0                    0                   0   \n",
       "3                        0                    0                   0   \n",
       "4                        0                    0                   0   \n",
       "...                    ...                  ...                 ...   \n",
       "476965                   0                    0                   0   \n",
       "476966                   0                    0                   0   \n",
       "476967                   0                    0                   0   \n",
       "476968                   0                    0                   0   \n",
       "476969                   0                    0                   0   \n",
       "\n",
       "        DEPARTAMENTO_VAUPÉS  DEPARTAMENTO_VICHADA  GENERO_FEMENINO  \\\n",
       "0                         0                     0                0   \n",
       "1                         0                     0                1   \n",
       "2                         0                     0                0   \n",
       "3                         0                     0                1   \n",
       "4                         0                     0                1   \n",
       "...                     ...                   ...              ...   \n",
       "476965                    0                     1                1   \n",
       "476966                    0                     1                1   \n",
       "476967                    0                     1                1   \n",
       "476968                    0                     0                1   \n",
       "476969                    0                     0                1   \n",
       "\n",
       "        GENERO_MASCULINO  GRUPO ETARIO_ADOLESCENTES  GRUPO ETARIO_ADULTOS  \\\n",
       "0                      1                          0                     1   \n",
       "1                      0                          0                     1   \n",
       "2                      1                          0                     1   \n",
       "3                      0                          0                     1   \n",
       "4                      0                          0                     1   \n",
       "...                  ...                        ...                   ...   \n",
       "476965                 0                          0                     0   \n",
       "476966                 0                          0                     1   \n",
       "476967                 0                          0                     1   \n",
       "476968                 0                          0                     1   \n",
       "476969                 0                          0                     1   \n",
       "\n",
       "        GRUPO ETARIO_MENORES  \n",
       "0                          0  \n",
       "1                          0  \n",
       "2                          0  \n",
       "3                          0  \n",
       "4                          0  \n",
       "...                      ...  \n",
       "476965                     1  \n",
       "476966                     0  \n",
       "476967                     0  \n",
       "476968                     0  \n",
       "476969                     0  \n",
       "\n",
       "[476970 rows x 1059 columns]"
      ]
     },
     "execution_count": 32,
     "metadata": {},
     "output_type": "execute_result"
    }
   ],
   "source": [
    "trainx_encoded"
   ]
  },
  {
   "cell_type": "code",
   "execution_count": 33,
   "id": "0a9d1a9f",
   "metadata": {
    "execution": {
     "iopub.execute_input": "2021-07-16T08:22:22.938060Z",
     "iopub.status.busy": "2021-07-16T08:22:22.937354Z",
     "iopub.status.idle": "2021-07-16T08:22:23.123038Z",
     "shell.execute_reply": "2021-07-16T08:22:23.122440Z"
    },
    "papermill": {
     "duration": 0.240757,
     "end_time": "2021-07-16T08:22:23.123193",
     "exception": false,
     "start_time": "2021-07-16T08:22:22.882436",
     "status": "completed"
    },
    "tags": []
   },
   "outputs": [],
   "source": [
    "from sklearn.model_selection import train_test_split"
   ]
  },
  {
   "cell_type": "code",
   "execution_count": 34,
   "id": "966bc734",
   "metadata": {
    "execution": {
     "iopub.execute_input": "2021-07-16T08:22:23.234438Z",
     "iopub.status.busy": "2021-07-16T08:22:23.233590Z",
     "iopub.status.idle": "2021-07-16T08:22:27.216545Z",
     "shell.execute_reply": "2021-07-16T08:22:27.215862Z"
    },
    "papermill": {
     "duration": 4.040921,
     "end_time": "2021-07-16T08:22:27.216692",
     "exception": false,
     "start_time": "2021-07-16T08:22:23.175771",
     "status": "completed"
    },
    "tags": []
   },
   "outputs": [],
   "source": [
    "X_train, X_test, y_train, y_test = train_test_split(trainx_encoded, trainy, test_size=0.2, random_state=42)"
   ]
  },
  {
   "cell_type": "code",
   "execution_count": 35,
   "id": "2ab7e24b",
   "metadata": {
    "execution": {
     "iopub.execute_input": "2021-07-16T08:22:27.339120Z",
     "iopub.status.busy": "2021-07-16T08:22:27.333807Z",
     "iopub.status.idle": "2021-07-16T08:22:27.386662Z",
     "shell.execute_reply": "2021-07-16T08:22:27.386102Z"
    },
    "papermill": {
     "duration": 0.117468,
     "end_time": "2021-07-16T08:22:27.386835",
     "exception": false,
     "start_time": "2021-07-16T08:22:27.269367",
     "status": "completed"
    },
    "tags": []
   },
   "outputs": [
    {
     "name": "stdout",
     "output_type": "stream",
     "text": [
      "<class 'pandas.core.frame.DataFrame'>\n",
      "Int64Index: 381576 entries, 400389 to 121958\n",
      "Columns: 1059 entries, CANTIDAD to GRUPO ETARIO_MENORES\n",
      "dtypes: int64(1), uint8(1058)\n",
      "memory usage: 390.8 MB\n"
     ]
    }
   ],
   "source": [
    "X_train.info()"
   ]
  },
  {
   "cell_type": "code",
   "execution_count": 36,
   "id": "576891ed",
   "metadata": {
    "execution": {
     "iopub.execute_input": "2021-07-16T08:22:27.498656Z",
     "iopub.status.busy": "2021-07-16T08:22:27.497981Z",
     "iopub.status.idle": "2021-07-16T08:22:27.525575Z",
     "shell.execute_reply": "2021-07-16T08:22:27.526079Z"
    },
    "papermill": {
     "duration": 0.086529,
     "end_time": "2021-07-16T08:22:27.526286",
     "exception": false,
     "start_time": "2021-07-16T08:22:27.439757",
     "status": "completed"
    },
    "tags": []
   },
   "outputs": [
    {
     "data": {
      "text/html": [
       "<div>\n",
       "<style scoped>\n",
       "    .dataframe tbody tr th:only-of-type {\n",
       "        vertical-align: middle;\n",
       "    }\n",
       "\n",
       "    .dataframe tbody tr th {\n",
       "        vertical-align: top;\n",
       "    }\n",
       "\n",
       "    .dataframe thead th {\n",
       "        text-align: right;\n",
       "    }\n",
       "</style>\n",
       "<table border=\"1\" class=\"dataframe\">\n",
       "  <thead>\n",
       "    <tr style=\"text-align: right;\">\n",
       "      <th></th>\n",
       "      <th>CANTIDAD</th>\n",
       "      <th>MUNICIPIO_ABEJORRAL</th>\n",
       "      <th>MUNICIPIO_ABREGO</th>\n",
       "      <th>MUNICIPIO_ABRIAQUÍ</th>\n",
       "      <th>MUNICIPIO_ACACÍAS</th>\n",
       "      <th>MUNICIPIO_ACANDÍ</th>\n",
       "      <th>MUNICIPIO_ACEVEDO</th>\n",
       "      <th>MUNICIPIO_ACHÍ</th>\n",
       "      <th>MUNICIPIO_AGRADO</th>\n",
       "      <th>MUNICIPIO_AGUA DE DIOS</th>\n",
       "      <th>...</th>\n",
       "      <th>DEPARTAMENTO_SUCRE</th>\n",
       "      <th>DEPARTAMENTO_TOLIMA</th>\n",
       "      <th>DEPARTAMENTO_VALLE</th>\n",
       "      <th>DEPARTAMENTO_VAUPÉS</th>\n",
       "      <th>DEPARTAMENTO_VICHADA</th>\n",
       "      <th>GENERO_FEMENINO</th>\n",
       "      <th>GENERO_MASCULINO</th>\n",
       "      <th>GRUPO ETARIO_ADOLESCENTES</th>\n",
       "      <th>GRUPO ETARIO_ADULTOS</th>\n",
       "      <th>GRUPO ETARIO_MENORES</th>\n",
       "    </tr>\n",
       "  </thead>\n",
       "  <tbody>\n",
       "    <tr>\n",
       "      <th>338033</th>\n",
       "      <td>1</td>\n",
       "      <td>0</td>\n",
       "      <td>0</td>\n",
       "      <td>0</td>\n",
       "      <td>0</td>\n",
       "      <td>0</td>\n",
       "      <td>0</td>\n",
       "      <td>0</td>\n",
       "      <td>0</td>\n",
       "      <td>0</td>\n",
       "      <td>...</td>\n",
       "      <td>0</td>\n",
       "      <td>0</td>\n",
       "      <td>0</td>\n",
       "      <td>0</td>\n",
       "      <td>0</td>\n",
       "      <td>1</td>\n",
       "      <td>0</td>\n",
       "      <td>0</td>\n",
       "      <td>1</td>\n",
       "      <td>0</td>\n",
       "    </tr>\n",
       "    <tr>\n",
       "      <th>311365</th>\n",
       "      <td>1</td>\n",
       "      <td>0</td>\n",
       "      <td>0</td>\n",
       "      <td>0</td>\n",
       "      <td>0</td>\n",
       "      <td>0</td>\n",
       "      <td>0</td>\n",
       "      <td>0</td>\n",
       "      <td>0</td>\n",
       "      <td>0</td>\n",
       "      <td>...</td>\n",
       "      <td>0</td>\n",
       "      <td>0</td>\n",
       "      <td>0</td>\n",
       "      <td>0</td>\n",
       "      <td>0</td>\n",
       "      <td>1</td>\n",
       "      <td>0</td>\n",
       "      <td>0</td>\n",
       "      <td>1</td>\n",
       "      <td>0</td>\n",
       "    </tr>\n",
       "    <tr>\n",
       "      <th>36383</th>\n",
       "      <td>1</td>\n",
       "      <td>0</td>\n",
       "      <td>0</td>\n",
       "      <td>0</td>\n",
       "      <td>0</td>\n",
       "      <td>0</td>\n",
       "      <td>0</td>\n",
       "      <td>0</td>\n",
       "      <td>0</td>\n",
       "      <td>0</td>\n",
       "      <td>...</td>\n",
       "      <td>0</td>\n",
       "      <td>0</td>\n",
       "      <td>0</td>\n",
       "      <td>0</td>\n",
       "      <td>0</td>\n",
       "      <td>1</td>\n",
       "      <td>0</td>\n",
       "      <td>0</td>\n",
       "      <td>0</td>\n",
       "      <td>1</td>\n",
       "    </tr>\n",
       "    <tr>\n",
       "      <th>98821</th>\n",
       "      <td>1</td>\n",
       "      <td>0</td>\n",
       "      <td>0</td>\n",
       "      <td>0</td>\n",
       "      <td>0</td>\n",
       "      <td>0</td>\n",
       "      <td>0</td>\n",
       "      <td>0</td>\n",
       "      <td>0</td>\n",
       "      <td>0</td>\n",
       "      <td>...</td>\n",
       "      <td>0</td>\n",
       "      <td>0</td>\n",
       "      <td>0</td>\n",
       "      <td>0</td>\n",
       "      <td>0</td>\n",
       "      <td>1</td>\n",
       "      <td>0</td>\n",
       "      <td>0</td>\n",
       "      <td>1</td>\n",
       "      <td>0</td>\n",
       "    </tr>\n",
       "    <tr>\n",
       "      <th>113213</th>\n",
       "      <td>1</td>\n",
       "      <td>0</td>\n",
       "      <td>0</td>\n",
       "      <td>0</td>\n",
       "      <td>0</td>\n",
       "      <td>0</td>\n",
       "      <td>0</td>\n",
       "      <td>0</td>\n",
       "      <td>0</td>\n",
       "      <td>0</td>\n",
       "      <td>...</td>\n",
       "      <td>0</td>\n",
       "      <td>0</td>\n",
       "      <td>0</td>\n",
       "      <td>0</td>\n",
       "      <td>0</td>\n",
       "      <td>1</td>\n",
       "      <td>0</td>\n",
       "      <td>0</td>\n",
       "      <td>1</td>\n",
       "      <td>0</td>\n",
       "    </tr>\n",
       "    <tr>\n",
       "      <th>...</th>\n",
       "      <td>...</td>\n",
       "      <td>...</td>\n",
       "      <td>...</td>\n",
       "      <td>...</td>\n",
       "      <td>...</td>\n",
       "      <td>...</td>\n",
       "      <td>...</td>\n",
       "      <td>...</td>\n",
       "      <td>...</td>\n",
       "      <td>...</td>\n",
       "      <td>...</td>\n",
       "      <td>...</td>\n",
       "      <td>...</td>\n",
       "      <td>...</td>\n",
       "      <td>...</td>\n",
       "      <td>...</td>\n",
       "      <td>...</td>\n",
       "      <td>...</td>\n",
       "      <td>...</td>\n",
       "      <td>...</td>\n",
       "      <td>...</td>\n",
       "    </tr>\n",
       "    <tr>\n",
       "      <th>460466</th>\n",
       "      <td>1</td>\n",
       "      <td>0</td>\n",
       "      <td>0</td>\n",
       "      <td>0</td>\n",
       "      <td>0</td>\n",
       "      <td>0</td>\n",
       "      <td>0</td>\n",
       "      <td>0</td>\n",
       "      <td>0</td>\n",
       "      <td>0</td>\n",
       "      <td>...</td>\n",
       "      <td>0</td>\n",
       "      <td>0</td>\n",
       "      <td>0</td>\n",
       "      <td>0</td>\n",
       "      <td>0</td>\n",
       "      <td>1</td>\n",
       "      <td>0</td>\n",
       "      <td>0</td>\n",
       "      <td>1</td>\n",
       "      <td>0</td>\n",
       "    </tr>\n",
       "    <tr>\n",
       "      <th>210316</th>\n",
       "      <td>1</td>\n",
       "      <td>0</td>\n",
       "      <td>0</td>\n",
       "      <td>0</td>\n",
       "      <td>0</td>\n",
       "      <td>0</td>\n",
       "      <td>0</td>\n",
       "      <td>0</td>\n",
       "      <td>0</td>\n",
       "      <td>0</td>\n",
       "      <td>...</td>\n",
       "      <td>0</td>\n",
       "      <td>0</td>\n",
       "      <td>0</td>\n",
       "      <td>0</td>\n",
       "      <td>0</td>\n",
       "      <td>1</td>\n",
       "      <td>0</td>\n",
       "      <td>0</td>\n",
       "      <td>1</td>\n",
       "      <td>0</td>\n",
       "    </tr>\n",
       "    <tr>\n",
       "      <th>194771</th>\n",
       "      <td>1</td>\n",
       "      <td>0</td>\n",
       "      <td>0</td>\n",
       "      <td>0</td>\n",
       "      <td>0</td>\n",
       "      <td>0</td>\n",
       "      <td>0</td>\n",
       "      <td>0</td>\n",
       "      <td>0</td>\n",
       "      <td>0</td>\n",
       "      <td>...</td>\n",
       "      <td>0</td>\n",
       "      <td>0</td>\n",
       "      <td>0</td>\n",
       "      <td>0</td>\n",
       "      <td>0</td>\n",
       "      <td>1</td>\n",
       "      <td>0</td>\n",
       "      <td>0</td>\n",
       "      <td>1</td>\n",
       "      <td>0</td>\n",
       "    </tr>\n",
       "    <tr>\n",
       "      <th>326845</th>\n",
       "      <td>1</td>\n",
       "      <td>0</td>\n",
       "      <td>0</td>\n",
       "      <td>0</td>\n",
       "      <td>0</td>\n",
       "      <td>0</td>\n",
       "      <td>0</td>\n",
       "      <td>0</td>\n",
       "      <td>0</td>\n",
       "      <td>0</td>\n",
       "      <td>...</td>\n",
       "      <td>0</td>\n",
       "      <td>0</td>\n",
       "      <td>0</td>\n",
       "      <td>0</td>\n",
       "      <td>0</td>\n",
       "      <td>0</td>\n",
       "      <td>1</td>\n",
       "      <td>1</td>\n",
       "      <td>0</td>\n",
       "      <td>0</td>\n",
       "    </tr>\n",
       "    <tr>\n",
       "      <th>308168</th>\n",
       "      <td>2</td>\n",
       "      <td>0</td>\n",
       "      <td>0</td>\n",
       "      <td>0</td>\n",
       "      <td>0</td>\n",
       "      <td>0</td>\n",
       "      <td>0</td>\n",
       "      <td>0</td>\n",
       "      <td>0</td>\n",
       "      <td>0</td>\n",
       "      <td>...</td>\n",
       "      <td>0</td>\n",
       "      <td>0</td>\n",
       "      <td>0</td>\n",
       "      <td>0</td>\n",
       "      <td>0</td>\n",
       "      <td>1</td>\n",
       "      <td>0</td>\n",
       "      <td>0</td>\n",
       "      <td>1</td>\n",
       "      <td>0</td>\n",
       "    </tr>\n",
       "  </tbody>\n",
       "</table>\n",
       "<p>95394 rows × 1059 columns</p>\n",
       "</div>"
      ],
      "text/plain": [
       "        CANTIDAD  MUNICIPIO_ABEJORRAL  MUNICIPIO_ABREGO  MUNICIPIO_ABRIAQUÍ  \\\n",
       "338033         1                    0                 0                   0   \n",
       "311365         1                    0                 0                   0   \n",
       "36383          1                    0                 0                   0   \n",
       "98821          1                    0                 0                   0   \n",
       "113213         1                    0                 0                   0   \n",
       "...          ...                  ...               ...                 ...   \n",
       "460466         1                    0                 0                   0   \n",
       "210316         1                    0                 0                   0   \n",
       "194771         1                    0                 0                   0   \n",
       "326845         1                    0                 0                   0   \n",
       "308168         2                    0                 0                   0   \n",
       "\n",
       "        MUNICIPIO_ACACÍAS  MUNICIPIO_ACANDÍ  MUNICIPIO_ACEVEDO  \\\n",
       "338033                  0                 0                  0   \n",
       "311365                  0                 0                  0   \n",
       "36383                   0                 0                  0   \n",
       "98821                   0                 0                  0   \n",
       "113213                  0                 0                  0   \n",
       "...                   ...               ...                ...   \n",
       "460466                  0                 0                  0   \n",
       "210316                  0                 0                  0   \n",
       "194771                  0                 0                  0   \n",
       "326845                  0                 0                  0   \n",
       "308168                  0                 0                  0   \n",
       "\n",
       "        MUNICIPIO_ACHÍ  MUNICIPIO_AGRADO  MUNICIPIO_AGUA DE DIOS  ...  \\\n",
       "338033               0                 0                       0  ...   \n",
       "311365               0                 0                       0  ...   \n",
       "36383                0                 0                       0  ...   \n",
       "98821                0                 0                       0  ...   \n",
       "113213               0                 0                       0  ...   \n",
       "...                ...               ...                     ...  ...   \n",
       "460466               0                 0                       0  ...   \n",
       "210316               0                 0                       0  ...   \n",
       "194771               0                 0                       0  ...   \n",
       "326845               0                 0                       0  ...   \n",
       "308168               0                 0                       0  ...   \n",
       "\n",
       "        DEPARTAMENTO_SUCRE  DEPARTAMENTO_TOLIMA  DEPARTAMENTO_VALLE  \\\n",
       "338033                   0                    0                   0   \n",
       "311365                   0                    0                   0   \n",
       "36383                    0                    0                   0   \n",
       "98821                    0                    0                   0   \n",
       "113213                   0                    0                   0   \n",
       "...                    ...                  ...                 ...   \n",
       "460466                   0                    0                   0   \n",
       "210316                   0                    0                   0   \n",
       "194771                   0                    0                   0   \n",
       "326845                   0                    0                   0   \n",
       "308168                   0                    0                   0   \n",
       "\n",
       "        DEPARTAMENTO_VAUPÉS  DEPARTAMENTO_VICHADA  GENERO_FEMENINO  \\\n",
       "338033                    0                     0                1   \n",
       "311365                    0                     0                1   \n",
       "36383                     0                     0                1   \n",
       "98821                     0                     0                1   \n",
       "113213                    0                     0                1   \n",
       "...                     ...                   ...              ...   \n",
       "460466                    0                     0                1   \n",
       "210316                    0                     0                1   \n",
       "194771                    0                     0                1   \n",
       "326845                    0                     0                0   \n",
       "308168                    0                     0                1   \n",
       "\n",
       "        GENERO_MASCULINO  GRUPO ETARIO_ADOLESCENTES  GRUPO ETARIO_ADULTOS  \\\n",
       "338033                 0                          0                     1   \n",
       "311365                 0                          0                     1   \n",
       "36383                  0                          0                     0   \n",
       "98821                  0                          0                     1   \n",
       "113213                 0                          0                     1   \n",
       "...                  ...                        ...                   ...   \n",
       "460466                 0                          0                     1   \n",
       "210316                 0                          0                     1   \n",
       "194771                 0                          0                     1   \n",
       "326845                 1                          1                     0   \n",
       "308168                 0                          0                     1   \n",
       "\n",
       "        GRUPO ETARIO_MENORES  \n",
       "338033                     0  \n",
       "311365                     0  \n",
       "36383                      1  \n",
       "98821                      0  \n",
       "113213                     0  \n",
       "...                      ...  \n",
       "460466                     0  \n",
       "210316                     0  \n",
       "194771                     0  \n",
       "326845                     0  \n",
       "308168                     0  \n",
       "\n",
       "[95394 rows x 1059 columns]"
      ]
     },
     "execution_count": 36,
     "metadata": {},
     "output_type": "execute_result"
    }
   ],
   "source": [
    "X_test"
   ]
  },
  {
   "cell_type": "markdown",
   "id": "703df3c6",
   "metadata": {
    "papermill": {
     "duration": 0.054774,
     "end_time": "2021-07-16T08:22:27.636098",
     "exception": false,
     "start_time": "2021-07-16T08:22:27.581324",
     "status": "completed"
    },
    "tags": []
   },
   "source": [
    "**Building a Model**\n",
    "\n",
    "As there are multiple discrete outputs, *multinomial logistic regression model* is used for this case\n",
    "\n",
    "\n"
   ]
  },
  {
   "cell_type": "code",
   "execution_count": 37,
   "id": "cdfe3c87",
   "metadata": {
    "execution": {
     "iopub.execute_input": "2021-07-16T08:22:27.749861Z",
     "iopub.status.busy": "2021-07-16T08:22:27.749141Z",
     "iopub.status.idle": "2021-07-16T08:22:27.916440Z",
     "shell.execute_reply": "2021-07-16T08:22:27.916982Z"
    },
    "papermill": {
     "duration": 0.226393,
     "end_time": "2021-07-16T08:22:27.917157",
     "exception": false,
     "start_time": "2021-07-16T08:22:27.690764",
     "status": "completed"
    },
    "tags": []
   },
   "outputs": [],
   "source": [
    "from sklearn.datasets import make_classification\n",
    "from sklearn.linear_model import LogisticRegression"
   ]
  },
  {
   "cell_type": "code",
   "execution_count": 38,
   "id": "b1ec9504",
   "metadata": {
    "execution": {
     "iopub.execute_input": "2021-07-16T08:22:28.033036Z",
     "iopub.status.busy": "2021-07-16T08:22:28.032341Z",
     "iopub.status.idle": "2021-07-16T08:23:28.511875Z",
     "shell.execute_reply": "2021-07-16T08:23:28.512382Z"
    },
    "papermill": {
     "duration": 60.539939,
     "end_time": "2021-07-16T08:23:28.512571",
     "exception": false,
     "start_time": "2021-07-16T08:22:27.972632",
     "status": "completed"
    },
    "tags": []
   },
   "outputs": [
    {
     "data": {
      "text/plain": [
       "LogisticRegression(multi_class='multinomial')"
      ]
     },
     "execution_count": 38,
     "metadata": {},
     "output_type": "execute_result"
    }
   ],
   "source": [
    "X_train, y_train = make_classification(n_samples=381576, n_features=1059, n_informative=5, n_redundant=5, n_classes=3, random_state=12)\n",
    "# define the multinomial logistic regression model\n",
    "model = LogisticRegression(multi_class='multinomial', solver='lbfgs')\n",
    "# fit the model on the whole dataset\n",
    "model.fit(X_train, y_train)"
   ]
  },
  {
   "cell_type": "code",
   "execution_count": 39,
   "id": "be87201b",
   "metadata": {
    "execution": {
     "iopub.execute_input": "2021-07-16T08:23:28.627174Z",
     "iopub.status.busy": "2021-07-16T08:23:28.626478Z",
     "iopub.status.idle": "2021-07-16T08:23:29.414271Z",
     "shell.execute_reply": "2021-07-16T08:23:29.415168Z"
    },
    "papermill": {
     "duration": 0.847909,
     "end_time": "2021-07-16T08:23:29.415449",
     "exception": false,
     "start_time": "2021-07-16T08:23:28.567540",
     "status": "completed"
    },
    "tags": []
   },
   "outputs": [
    {
     "data": {
      "text/plain": [
       "0.8104021217267333"
      ]
     },
     "execution_count": 39,
     "metadata": {},
     "output_type": "execute_result"
    }
   ],
   "source": [
    "model.score(X_train, y_train)"
   ]
  },
  {
   "cell_type": "code",
   "execution_count": 40,
   "id": "fdc5fb12",
   "metadata": {
    "execution": {
     "iopub.execute_input": "2021-07-16T08:23:29.552012Z",
     "iopub.status.busy": "2021-07-16T08:23:29.550947Z",
     "iopub.status.idle": "2021-07-16T08:23:36.564912Z",
     "shell.execute_reply": "2021-07-16T08:23:36.564321Z"
    },
    "papermill": {
     "duration": 7.073832,
     "end_time": "2021-07-16T08:23:36.565068",
     "exception": false,
     "start_time": "2021-07-16T08:23:29.491236",
     "status": "completed"
    },
    "tags": []
   },
   "outputs": [],
   "source": [
    "X_test, y_test = make_classification(n_samples=95394, n_features=1059, n_informative=5, n_redundant=5, n_classes=3, random_state=12)"
   ]
  },
  {
   "cell_type": "code",
   "execution_count": 41,
   "id": "7e2f6cd3",
   "metadata": {
    "execution": {
     "iopub.execute_input": "2021-07-16T08:23:36.682629Z",
     "iopub.status.busy": "2021-07-16T08:23:36.681776Z",
     "iopub.status.idle": "2021-07-16T08:23:36.873054Z",
     "shell.execute_reply": "2021-07-16T08:23:36.873909Z"
    },
    "papermill": {
     "duration": 0.253138,
     "end_time": "2021-07-16T08:23:36.874215",
     "exception": false,
     "start_time": "2021-07-16T08:23:36.621077",
     "status": "completed"
    },
    "tags": []
   },
   "outputs": [],
   "source": [
    "y_pred = model.predict(X_test)"
   ]
  },
  {
   "cell_type": "code",
   "execution_count": 42,
   "id": "a42ce028",
   "metadata": {
    "execution": {
     "iopub.execute_input": "2021-07-16T08:23:37.037832Z",
     "iopub.status.busy": "2021-07-16T08:23:37.037114Z",
     "iopub.status.idle": "2021-07-16T08:23:37.039704Z",
     "shell.execute_reply": "2021-07-16T08:23:37.040179Z"
    },
    "papermill": {
     "duration": 0.066291,
     "end_time": "2021-07-16T08:23:37.040342",
     "exception": false,
     "start_time": "2021-07-16T08:23:36.974051",
     "status": "completed"
    },
    "tags": []
   },
   "outputs": [
    {
     "data": {
      "text/plain": [
       "array([1, 0, 2, ..., 2, 2, 1])"
      ]
     },
     "execution_count": 42,
     "metadata": {},
     "output_type": "execute_result"
    }
   ],
   "source": [
    "y_pred"
   ]
  },
  {
   "cell_type": "code",
   "execution_count": 43,
   "id": "c6c4c51d",
   "metadata": {
    "execution": {
     "iopub.execute_input": "2021-07-16T08:23:37.154468Z",
     "iopub.status.busy": "2021-07-16T08:23:37.153837Z",
     "iopub.status.idle": "2021-07-16T08:23:37.159581Z",
     "shell.execute_reply": "2021-07-16T08:23:37.159055Z"
    },
    "papermill": {
     "duration": 0.063632,
     "end_time": "2021-07-16T08:23:37.159726",
     "exception": false,
     "start_time": "2021-07-16T08:23:37.096094",
     "status": "completed"
    },
    "tags": []
   },
   "outputs": [
    {
     "data": {
      "text/plain": [
       "array([2, 0, 1, ..., 1, 1, 2])"
      ]
     },
     "execution_count": 43,
     "metadata": {},
     "output_type": "execute_result"
    }
   ],
   "source": [
    "y_test"
   ]
  },
  {
   "cell_type": "code",
   "execution_count": 44,
   "id": "0f89a81f",
   "metadata": {
    "execution": {
     "iopub.execute_input": "2021-07-16T08:23:37.279048Z",
     "iopub.status.busy": "2021-07-16T08:23:37.278048Z",
     "iopub.status.idle": "2021-07-16T08:23:37.283468Z",
     "shell.execute_reply": "2021-07-16T08:23:37.284033Z"
    },
    "papermill": {
     "duration": 0.067443,
     "end_time": "2021-07-16T08:23:37.284201",
     "exception": false,
     "start_time": "2021-07-16T08:23:37.216758",
     "status": "completed"
    },
    "tags": []
   },
   "outputs": [
    {
     "data": {
      "text/plain": [
       "1.3008470134390004"
      ]
     },
     "execution_count": 44,
     "metadata": {},
     "output_type": "execute_result"
    }
   ],
   "source": [
    "from sklearn.metrics import mean_squared_error\n",
    "mean_squared_error(y_test, y_pred)"
   ]
  },
  {
   "cell_type": "code",
   "execution_count": 45,
   "id": "def2667b",
   "metadata": {
    "execution": {
     "iopub.execute_input": "2021-07-16T08:23:37.401307Z",
     "iopub.status.busy": "2021-07-16T08:23:37.400369Z",
     "iopub.status.idle": "2021-07-16T08:23:37.413024Z",
     "shell.execute_reply": "2021-07-16T08:23:37.412497Z"
    },
    "papermill": {
     "duration": 0.072236,
     "end_time": "2021-07-16T08:23:37.413164",
     "exception": false,
     "start_time": "2021-07-16T08:23:37.340928",
     "status": "completed"
    },
    "tags": []
   },
   "outputs": [
    {
     "data": {
      "text/plain": [
       "0.3376837117638426"
      ]
     },
     "execution_count": 45,
     "metadata": {},
     "output_type": "execute_result"
    }
   ],
   "source": [
    "from sklearn.metrics import accuracy_score\n",
    "accuracy_score(y_test, y_pred)"
   ]
  },
  {
   "cell_type": "code",
   "execution_count": 46,
   "id": "7db73020",
   "metadata": {
    "execution": {
     "iopub.execute_input": "2021-07-16T08:23:37.530529Z",
     "iopub.status.busy": "2021-07-16T08:23:37.529886Z",
     "iopub.status.idle": "2021-07-16T08:23:37.536332Z",
     "shell.execute_reply": "2021-07-16T08:23:37.536795Z"
    },
    "papermill": {
     "duration": 0.066544,
     "end_time": "2021-07-16T08:23:37.536967",
     "exception": false,
     "start_time": "2021-07-16T08:23:37.470423",
     "status": "completed"
    },
    "tags": []
   },
   "outputs": [
    {
     "data": {
      "text/plain": [
       "-0.9512706243690436"
      ]
     },
     "execution_count": 46,
     "metadata": {},
     "output_type": "execute_result"
    }
   ],
   "source": [
    "from sklearn.metrics import r2_score\n",
    "r2_score(y_test, y_pred)"
   ]
  },
  {
   "cell_type": "code",
   "execution_count": 47,
   "id": "1c84d170",
   "metadata": {
    "execution": {
     "iopub.execute_input": "2021-07-16T08:23:37.655631Z",
     "iopub.status.busy": "2021-07-16T08:23:37.654956Z",
     "iopub.status.idle": "2021-07-16T08:23:37.869807Z",
     "shell.execute_reply": "2021-07-16T08:23:37.870749Z"
    },
    "papermill": {
     "duration": 0.276175,
     "end_time": "2021-07-16T08:23:37.871021",
     "exception": false,
     "start_time": "2021-07-16T08:23:37.594846",
     "status": "completed"
    },
    "tags": []
   },
   "outputs": [
    {
     "data": {
      "text/plain": [
       "0.3376837117638426"
      ]
     },
     "execution_count": 47,
     "metadata": {},
     "output_type": "execute_result"
    }
   ],
   "source": [
    "model.score(X_test, y_test)"
   ]
  },
  {
   "cell_type": "code",
   "execution_count": 48,
   "id": "f9b00639",
   "metadata": {
    "execution": {
     "iopub.execute_input": "2021-07-16T08:23:38.036821Z",
     "iopub.status.busy": "2021-07-16T08:23:38.035552Z",
     "iopub.status.idle": "2021-07-16T08:23:39.043287Z",
     "shell.execute_reply": "2021-07-16T08:23:39.044909Z"
    },
    "papermill": {
     "duration": 1.074345,
     "end_time": "2021-07-16T08:23:39.045386",
     "exception": false,
     "start_time": "2021-07-16T08:23:37.971041",
     "status": "completed"
    },
    "tags": []
   },
   "outputs": [
    {
     "name": "stdout",
     "output_type": "stream",
     "text": [
      "Train Accuracy: 0.81\n",
      "Test Accuracy: 0.34\n"
     ]
    }
   ],
   "source": [
    "print('Train Accuracy: %.2f' % (model.score(X_train, y_train)))\n",
    "print('Test Accuracy: %.2f' % (model.score(X_test, y_test)))"
   ]
  },
  {
   "cell_type": "code",
   "execution_count": null,
   "id": "d2e473b6",
   "metadata": {
    "papermill": {
     "duration": 0.058991,
     "end_time": "2021-07-16T08:23:39.203302",
     "exception": false,
     "start_time": "2021-07-16T08:23:39.144311",
     "status": "completed"
    },
    "tags": []
   },
   "outputs": [],
   "source": []
  }
 ],
 "metadata": {
  "kernelspec": {
   "display_name": "Python 3",
   "language": "python",
   "name": "python3"
  },
  "language_info": {
   "codemirror_mode": {
    "name": "ipython",
    "version": 3
   },
   "file_extension": ".py",
   "mimetype": "text/x-python",
   "name": "python",
   "nbconvert_exporter": "python",
   "pygments_lexer": "ipython3",
   "version": "3.7.10"
  },
  "papermill": {
   "default_parameters": {},
   "duration": 104.904356,
   "end_time": "2021-07-16T08:23:40.074366",
   "environment_variables": {},
   "exception": null,
   "input_path": "__notebook__.ipynb",
   "output_path": "__notebook__.ipynb",
   "parameters": {},
   "start_time": "2021-07-16T08:21:55.170010",
   "version": "2.3.3"
  }
 },
 "nbformat": 4,
 "nbformat_minor": 5
}
